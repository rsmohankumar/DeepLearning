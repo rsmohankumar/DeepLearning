{
 "cells": [
  {
   "cell_type": "markdown",
   "metadata": {},
   "source": [
    "<a href=\"http://cocl.us/pytorch_link_top\">\n",
    "    <img src=\"https://s3-api.us-geo.objectstorage.softlayer.net/cf-courses-data/CognitiveClass/DL0110EN/notebook_images%20/Pytochtop.png\" width=\"750\" alt=\"IBM Product \">\n",
    "</a> \n"
   ]
  },
  {
   "cell_type": "markdown",
   "metadata": {},
   "source": [
    "<img src=\"https://cf-courses-data.s3.us.cloud-object-storage.appdomain.cloud/IBMDeveloperSkillsNetwork-DL0321EN-SkillsNetwork/image/IDSN-logo.png\" width=\"200\" alt=\"cognitiveclass.ai logo\">\n"
   ]
  },
  {
   "cell_type": "markdown",
   "metadata": {},
   "source": [
    "<h1><h1>Pre-trained-Models with PyTorch </h1>\n"
   ]
  },
  {
   "cell_type": "markdown",
   "metadata": {},
   "source": [
    "In this lab, you will use pre-trained models to classify between the negative and positive samples; you will be provided with the dataset object. The particular pre-trained model will be resnet18; you will have three questions: \n",
    "<ul>\n",
    "<li>change the output layer</li>\n",
    "<li> train the model</li> \n",
    "<li>  identify  several  misclassified samples</li> \n",
    " </ul>\n",
    "You will take several screenshots of your work and share your notebook. \n"
   ]
  },
  {
   "cell_type": "markdown",
   "metadata": {},
   "source": [
    "<h2>Table of Contents</h2>\n"
   ]
  },
  {
   "cell_type": "markdown",
   "metadata": {},
   "source": [
    "<div class=\"alert alert-block alert-info\" style=\"margin-top: 20px\">\n",
    "\n",
    "\n",
    "<ul>\n",
    "    <li><a href=\"#download_data\"> Download Data</a></li>\n",
    "    <li><a href=\"#auxiliary\"> Imports and Auxiliary Functions </a></li>\n",
    "    <li><a href=\"#data_class\"> Dataset Class</a></li>\n",
    "    <li><a href=\"#Question_1\">Question 1</a></li>\n",
    "    <li><a href=\"#Question_2\">Question 2</a></li>\n",
    "    <li><a href=\"#Question_3\">Question 3</a></li>\n",
    "</ul>\n",
    "<p>Estimated Time Needed: <strong>120 min</strong></p>\n",
    " </div>\n",
    "<hr>\n"
   ]
  },
  {
   "cell_type": "markdown",
   "metadata": {},
   "source": [
    "<h2 id=\"download_data\">Download Data</h2>\n"
   ]
  },
  {
   "cell_type": "markdown",
   "metadata": {},
   "source": [
    "Download the dataset and unzip the files in your data directory, unlike the other labs, all the data will be deleted after you close  the lab, this may take some time:\n"
   ]
  },
  {
   "cell_type": "code",
   "execution_count": 1,
   "metadata": {
    "tags": []
   },
   "outputs": [
    {
     "name": "stdout",
     "output_type": "stream",
     "text": [
      "--2025-06-21 13:15:41--  https://s3-api.us-geo.objectstorage.softlayer.net/cf-courses-data/CognitiveClass/DL0321EN/data/images/Positive_tensors.zip\n",
      "Resolving s3-api.us-geo.objectstorage.softlayer.net (s3-api.us-geo.objectstorage.softlayer.net)... 67.228.254.196, 67.228.254.196\n",
      "Connecting to s3-api.us-geo.objectstorage.softlayer.net (s3-api.us-geo.objectstorage.softlayer.net)|67.228.254.196|:443... connected.\n",
      "HTTP request sent, awaiting response... 200 OK\n",
      "Length: 2598656062 (2.4G) [application/zip]\n",
      "Saving to: ‘Positive_tensors.zip’\n",
      "\n",
      "Positive_tensors.zi 100%[===================>]   2.42G  61.4MB/s    in 43s     \n",
      "\n",
      "2025-06-21 13:16:49 (57.1 MB/s) - ‘Positive_tensors.zip’ saved [2598656062/2598656062]\n",
      "\n"
     ]
    }
   ],
   "source": [
    "!wget https://s3-api.us-geo.objectstorage.softlayer.net/cf-courses-data/CognitiveClass/DL0321EN/data/images/Positive_tensors.zip "
   ]
  },
  {
   "cell_type": "code",
   "execution_count": 7,
   "metadata": {
    "tags": []
   },
   "outputs": [],
   "source": [
    "!unzip -qo Positive_tensors.zip"
   ]
  },
  {
   "cell_type": "code",
   "execution_count": 3,
   "metadata": {
    "tags": []
   },
   "outputs": [
    {
     "name": "stdout",
     "output_type": "stream",
     "text": [
      "--2025-06-21 14:04:47--  https://s3-api.us-geo.objectstorage.softlayer.net/cf-courses-data/CognitiveClass/DL0321EN/data/images/Negative_tensors.zip\n",
      "Resolving s3-api.us-geo.objectstorage.softlayer.net (s3-api.us-geo.objectstorage.softlayer.net)... 67.228.254.196, 67.228.254.196\n",
      "Connecting to s3-api.us-geo.objectstorage.softlayer.net (s3-api.us-geo.objectstorage.softlayer.net)|67.228.254.196|:443... connected.\n",
      "HTTP request sent, awaiting response... 200 OK\n",
      "Length: 2111408108 (2.0G) [application/zip]\n",
      "Saving to: ‘Negative_tensors.zip’\n",
      "\n",
      "Negative_tensors.zi 100%[===================>]   1.97G  40.8MB/s    in 42s     \n",
      "\n",
      "2025-06-21 14:05:35 (48.1 MB/s) - ‘Negative_tensors.zip’ saved [2111408108/2111408108]\n",
      "\n"
     ]
    }
   ],
   "source": [
    "! wget https://s3-api.us-geo.objectstorage.softlayer.net/cf-courses-data/CognitiveClass/DL0321EN/data/images/Negative_tensors.zip\n",
    "!unzip -qo Negative_tensors.zip"
   ]
  },
  {
   "cell_type": "markdown",
   "metadata": {},
   "source": [
    "We will install torchvision:\n"
   ]
  },
  {
   "cell_type": "code",
   "execution_count": 4,
   "metadata": {
    "tags": []
   },
   "outputs": [
    {
     "name": "stdout",
     "output_type": "stream",
     "text": [
      "Requirement already satisfied: torchvision in /home/jupyterlab/conda/envs/python/lib/python3.7/site-packages (0.14.1+cpu)\n",
      "Requirement already satisfied: typing-extensions in /home/jupyterlab/conda/envs/python/lib/python3.7/site-packages (from torchvision) (4.5.0)\n",
      "Requirement already satisfied: numpy in /home/jupyterlab/conda/envs/python/lib/python3.7/site-packages (from torchvision) (1.21.6)\n",
      "Requirement already satisfied: requests in /home/jupyterlab/conda/envs/python/lib/python3.7/site-packages (from torchvision) (2.29.0)\n",
      "Requirement already satisfied: torch==1.13.1 in /home/jupyterlab/conda/envs/python/lib/python3.7/site-packages (from torchvision) (1.13.1+cpu)\n",
      "Requirement already satisfied: pillow!=8.3.*,>=5.3.0 in /home/jupyterlab/conda/envs/python/lib/python3.7/site-packages (from torchvision) (8.1.0)\n",
      "Requirement already satisfied: charset-normalizer<4,>=2 in /home/jupyterlab/conda/envs/python/lib/python3.7/site-packages (from requests->torchvision) (3.1.0)\n",
      "Requirement already satisfied: idna<4,>=2.5 in /home/jupyterlab/conda/envs/python/lib/python3.7/site-packages (from requests->torchvision) (3.4)\n",
      "Requirement already satisfied: urllib3<1.27,>=1.21.1 in /home/jupyterlab/conda/envs/python/lib/python3.7/site-packages (from requests->torchvision) (1.26.15)\n",
      "Requirement already satisfied: certifi>=2017.4.17 in /home/jupyterlab/conda/envs/python/lib/python3.7/site-packages (from requests->torchvision) (2023.5.7)\n"
     ]
    }
   ],
   "source": [
    "!pip install torchvision"
   ]
  },
  {
   "cell_type": "markdown",
   "metadata": {},
   "source": [
    "<h2 id=\"auxiliary\">Imports and Auxiliary Functions</h2>\n"
   ]
  },
  {
   "cell_type": "markdown",
   "metadata": {},
   "source": [
    "The following are the libraries we are going to use for this lab. The <code>torch.manual_seed()</code> is for forcing the random function to give the same number every time we try to recompile it.\n"
   ]
  },
  {
   "cell_type": "code",
   "execution_count": 8,
   "metadata": {
    "tags": []
   },
   "outputs": [
    {
     "data": {
      "text/plain": [
       "<torch._C.Generator at 0x74d0c8064e50>"
      ]
     },
     "execution_count": 8,
     "metadata": {},
     "output_type": "execute_result"
    }
   ],
   "source": [
    "# These are the libraries will be used for this lab.\n",
    "import torchvision.models as models\n",
    "from PIL import Image\n",
    "import pandas\n",
    "from torchvision import transforms\n",
    "import torch.nn as nn\n",
    "import time\n",
    "import torch \n",
    "import matplotlib.pylab as plt\n",
    "import numpy as np\n",
    "from torch.utils.data import Dataset, DataLoader\n",
    "import h5py\n",
    "import os\n",
    "import glob\n",
    "torch.manual_seed(0)"
   ]
  },
  {
   "cell_type": "code",
   "execution_count": 10,
   "metadata": {
    "tags": []
   },
   "outputs": [],
   "source": [
    "from matplotlib.pyplot import imshow\n",
    "import matplotlib.pylab as plt\n",
    "from PIL import Image\n",
    "import pandas as pd\n",
    "import os"
   ]
  },
  {
   "cell_type": "markdown",
   "metadata": {},
   "source": [
    "<!--Empty Space for separating topics-->\n"
   ]
  },
  {
   "cell_type": "markdown",
   "metadata": {},
   "source": [
    "<h2 id=\"data_class\">Dataset Class</h2>\n"
   ]
  },
  {
   "cell_type": "markdown",
   "metadata": {},
   "source": [
    " This dataset class is essentially the same dataset you build in the previous section, but to speed things up, we are going to use tensors instead of jpeg images. Therefor for each iteration, you will skip the reshape step, conversion step to tensors and normalization step.\n"
   ]
  },
  {
   "cell_type": "code",
   "execution_count": 11,
   "metadata": {
    "tags": []
   },
   "outputs": [
    {
     "name": "stdout",
     "output_type": "stream",
     "text": [
      "done\n"
     ]
    }
   ],
   "source": [
    "# Create your own dataset object\n",
    "\n",
    "class Dataset(Dataset):\n",
    "\n",
    "    # Constructor\n",
    "    def __init__(self,transform=None,train=True):\n",
    "        directory=\"/resources/DL0321EN/labs/Week4\"\n",
    "        positive=\"Positive_tensors\"\n",
    "        negative='Negative_tensors'\n",
    "\n",
    "        positive_file_path=os.path.join(directory,positive)\n",
    "        negative_file_path=os.path.join(directory,negative)\n",
    "        positive_files=[os.path.join(positive_file_path,file) for file in os.listdir(positive_file_path) if file.endswith(\".pt\")]\n",
    "        negative_files=[os.path.join(negative_file_path,file) for file in os.listdir(negative_file_path) if file.endswith(\".pt\")]\n",
    "        number_of_samples=len(positive_files)+len(negative_files)\n",
    "        self.all_files=[None]*number_of_samples\n",
    "        self.all_files[::2]=positive_files\n",
    "        self.all_files[1::2]=negative_files \n",
    "        # The transform is goint to be used on image\n",
    "        self.transform = transform\n",
    "        #torch.LongTensor\n",
    "        self.Y=torch.zeros([number_of_samples]).type(torch.LongTensor)\n",
    "        self.Y[::2]=1\n",
    "        self.Y[1::2]=0\n",
    "        \n",
    "        if train:\n",
    "            self.all_files=self.all_files[0:30000]\n",
    "            self.Y=self.Y[0:30000]\n",
    "            self.len=len(self.all_files)\n",
    "        else:\n",
    "            self.all_files=self.all_files[30000:]\n",
    "            self.Y=self.Y[30000:]\n",
    "            self.len=len(self.all_files)     \n",
    "       \n",
    "    # Get the length\n",
    "    def __len__(self):\n",
    "        return self.len\n",
    "    \n",
    "    # Getter\n",
    "    def __getitem__(self, idx):\n",
    "               \n",
    "        image=torch.load(self.all_files[idx])\n",
    "        y=self.Y[idx]\n",
    "                  \n",
    "        # If there is any transform method, apply it onto the image\n",
    "        if self.transform:\n",
    "            image = self.transform(image)\n",
    "\n",
    "        return image, y\n",
    "    \n",
    "print(\"done\")"
   ]
  },
  {
   "cell_type": "markdown",
   "metadata": {},
   "source": [
    "We create two dataset objects, one for the training data and one for the validation data.\n"
   ]
  },
  {
   "cell_type": "code",
   "execution_count": 12,
   "metadata": {
    "tags": []
   },
   "outputs": [
    {
     "name": "stdout",
     "output_type": "stream",
     "text": [
      "done\n"
     ]
    }
   ],
   "source": [
    "train_dataset = Dataset(train=True)\n",
    "validation_dataset = Dataset(train=False)\n",
    "print(\"done\")"
   ]
  },
  {
   "cell_type": "markdown",
   "metadata": {},
   "source": [
    "<h2 id=\"Question_1\">Question 1</h2>\n"
   ]
  },
  {
   "cell_type": "markdown",
   "metadata": {},
   "source": [
    "<b>Prepare a pre-trained resnet18 model :</b>\n"
   ]
  },
  {
   "cell_type": "markdown",
   "metadata": {},
   "source": [
    "<b>Step 1</b>: Load the pre-trained model <code>resnet18</code> Set the parameter <code>pretrained</code> to true:\n"
   ]
  },
  {
   "cell_type": "code",
   "execution_count": 13,
   "metadata": {
    "tags": []
   },
   "outputs": [
    {
     "name": "stderr",
     "output_type": "stream",
     "text": [
      "/home/jupyterlab/conda/envs/python/lib/python3.7/site-packages/torchvision/models/_utils.py:209: UserWarning: The parameter 'pretrained' is deprecated since 0.13 and may be removed in the future, please use 'weights' instead.\n",
      "  f\"The parameter '{pretrained_param}' is deprecated since 0.13 and may be removed in the future, \"\n",
      "/home/jupyterlab/conda/envs/python/lib/python3.7/site-packages/torchvision/models/_utils.py:223: UserWarning: Arguments other than a weight enum or `None` for 'weights' are deprecated since 0.13 and may be removed in the future. The current behavior is equivalent to passing `weights=ResNet18_Weights.IMAGENET1K_V1`. You can also use `weights=ResNet18_Weights.DEFAULT` to get the most up-to-date weights.\n",
      "  warnings.warn(msg)\n",
      "Downloading: \"https://download.pytorch.org/models/resnet18-f37072fd.pth\" to /home/jupyterlab/.cache/torch/hub/checkpoints/resnet18-f37072fd.pth\n"
     ]
    },
    {
     "data": {
      "application/vnd.jupyter.widget-view+json": {
       "model_id": "a605b454b601488e801045d26f857dba",
       "version_major": 2,
       "version_minor": 0
      },
      "text/plain": [
       "  0%|          | 0.00/44.7M [00:00<?, ?B/s]"
      ]
     },
     "metadata": {},
     "output_type": "display_data"
    }
   ],
   "source": [
    "# Step 1: Load the pre-trained model resnet18\n",
    "\n",
    "import torchvision.models as models\n",
    "\n",
    "model = models.resnet18(pretrained=True)"
   ]
  },
  {
   "cell_type": "code",
   "execution_count": 24,
   "metadata": {
    "tags": []
   },
   "outputs": [
    {
     "name": "stdout",
     "output_type": "stream",
     "text": [
      "Using CPU\n"
     ]
    },
    {
     "data": {
      "text/plain": [
       "ResNet(\n",
       "  (conv1): Conv2d(3, 64, kernel_size=(7, 7), stride=(2, 2), padding=(3, 3), bias=False)\n",
       "  (bn1): BatchNorm2d(64, eps=1e-05, momentum=0.1, affine=True, track_running_stats=True)\n",
       "  (relu): ReLU(inplace=True)\n",
       "  (maxpool): MaxPool2d(kernel_size=3, stride=2, padding=1, dilation=1, ceil_mode=False)\n",
       "  (layer1): Sequential(\n",
       "    (0): BasicBlock(\n",
       "      (conv1): Conv2d(64, 64, kernel_size=(3, 3), stride=(1, 1), padding=(1, 1), bias=False)\n",
       "      (bn1): BatchNorm2d(64, eps=1e-05, momentum=0.1, affine=True, track_running_stats=True)\n",
       "      (relu): ReLU(inplace=True)\n",
       "      (conv2): Conv2d(64, 64, kernel_size=(3, 3), stride=(1, 1), padding=(1, 1), bias=False)\n",
       "      (bn2): BatchNorm2d(64, eps=1e-05, momentum=0.1, affine=True, track_running_stats=True)\n",
       "    )\n",
       "    (1): BasicBlock(\n",
       "      (conv1): Conv2d(64, 64, kernel_size=(3, 3), stride=(1, 1), padding=(1, 1), bias=False)\n",
       "      (bn1): BatchNorm2d(64, eps=1e-05, momentum=0.1, affine=True, track_running_stats=True)\n",
       "      (relu): ReLU(inplace=True)\n",
       "      (conv2): Conv2d(64, 64, kernel_size=(3, 3), stride=(1, 1), padding=(1, 1), bias=False)\n",
       "      (bn2): BatchNorm2d(64, eps=1e-05, momentum=0.1, affine=True, track_running_stats=True)\n",
       "    )\n",
       "  )\n",
       "  (layer2): Sequential(\n",
       "    (0): BasicBlock(\n",
       "      (conv1): Conv2d(64, 128, kernel_size=(3, 3), stride=(2, 2), padding=(1, 1), bias=False)\n",
       "      (bn1): BatchNorm2d(128, eps=1e-05, momentum=0.1, affine=True, track_running_stats=True)\n",
       "      (relu): ReLU(inplace=True)\n",
       "      (conv2): Conv2d(128, 128, kernel_size=(3, 3), stride=(1, 1), padding=(1, 1), bias=False)\n",
       "      (bn2): BatchNorm2d(128, eps=1e-05, momentum=0.1, affine=True, track_running_stats=True)\n",
       "      (downsample): Sequential(\n",
       "        (0): Conv2d(64, 128, kernel_size=(1, 1), stride=(2, 2), bias=False)\n",
       "        (1): BatchNorm2d(128, eps=1e-05, momentum=0.1, affine=True, track_running_stats=True)\n",
       "      )\n",
       "    )\n",
       "    (1): BasicBlock(\n",
       "      (conv1): Conv2d(128, 128, kernel_size=(3, 3), stride=(1, 1), padding=(1, 1), bias=False)\n",
       "      (bn1): BatchNorm2d(128, eps=1e-05, momentum=0.1, affine=True, track_running_stats=True)\n",
       "      (relu): ReLU(inplace=True)\n",
       "      (conv2): Conv2d(128, 128, kernel_size=(3, 3), stride=(1, 1), padding=(1, 1), bias=False)\n",
       "      (bn2): BatchNorm2d(128, eps=1e-05, momentum=0.1, affine=True, track_running_stats=True)\n",
       "    )\n",
       "  )\n",
       "  (layer3): Sequential(\n",
       "    (0): BasicBlock(\n",
       "      (conv1): Conv2d(128, 256, kernel_size=(3, 3), stride=(2, 2), padding=(1, 1), bias=False)\n",
       "      (bn1): BatchNorm2d(256, eps=1e-05, momentum=0.1, affine=True, track_running_stats=True)\n",
       "      (relu): ReLU(inplace=True)\n",
       "      (conv2): Conv2d(256, 256, kernel_size=(3, 3), stride=(1, 1), padding=(1, 1), bias=False)\n",
       "      (bn2): BatchNorm2d(256, eps=1e-05, momentum=0.1, affine=True, track_running_stats=True)\n",
       "      (downsample): Sequential(\n",
       "        (0): Conv2d(128, 256, kernel_size=(1, 1), stride=(2, 2), bias=False)\n",
       "        (1): BatchNorm2d(256, eps=1e-05, momentum=0.1, affine=True, track_running_stats=True)\n",
       "      )\n",
       "    )\n",
       "    (1): BasicBlock(\n",
       "      (conv1): Conv2d(256, 256, kernel_size=(3, 3), stride=(1, 1), padding=(1, 1), bias=False)\n",
       "      (bn1): BatchNorm2d(256, eps=1e-05, momentum=0.1, affine=True, track_running_stats=True)\n",
       "      (relu): ReLU(inplace=True)\n",
       "      (conv2): Conv2d(256, 256, kernel_size=(3, 3), stride=(1, 1), padding=(1, 1), bias=False)\n",
       "      (bn2): BatchNorm2d(256, eps=1e-05, momentum=0.1, affine=True, track_running_stats=True)\n",
       "    )\n",
       "  )\n",
       "  (layer4): Sequential(\n",
       "    (0): BasicBlock(\n",
       "      (conv1): Conv2d(256, 512, kernel_size=(3, 3), stride=(2, 2), padding=(1, 1), bias=False)\n",
       "      (bn1): BatchNorm2d(512, eps=1e-05, momentum=0.1, affine=True, track_running_stats=True)\n",
       "      (relu): ReLU(inplace=True)\n",
       "      (conv2): Conv2d(512, 512, kernel_size=(3, 3), stride=(1, 1), padding=(1, 1), bias=False)\n",
       "      (bn2): BatchNorm2d(512, eps=1e-05, momentum=0.1, affine=True, track_running_stats=True)\n",
       "      (downsample): Sequential(\n",
       "        (0): Conv2d(256, 512, kernel_size=(1, 1), stride=(2, 2), bias=False)\n",
       "        (1): BatchNorm2d(512, eps=1e-05, momentum=0.1, affine=True, track_running_stats=True)\n",
       "      )\n",
       "    )\n",
       "    (1): BasicBlock(\n",
       "      (conv1): Conv2d(512, 512, kernel_size=(3, 3), stride=(1, 1), padding=(1, 1), bias=False)\n",
       "      (bn1): BatchNorm2d(512, eps=1e-05, momentum=0.1, affine=True, track_running_stats=True)\n",
       "      (relu): ReLU(inplace=True)\n",
       "      (conv2): Conv2d(512, 512, kernel_size=(3, 3), stride=(1, 1), padding=(1, 1), bias=False)\n",
       "      (bn2): BatchNorm2d(512, eps=1e-05, momentum=0.1, affine=True, track_running_stats=True)\n",
       "    )\n",
       "  )\n",
       "  (avgpool): AdaptiveAvgPool2d(output_size=(1, 1))\n",
       "  (fc): Linear(in_features=512, out_features=2, bias=True)\n",
       ")"
      ]
     },
     "execution_count": 24,
     "metadata": {},
     "output_type": "execute_result"
    }
   ],
   "source": [
    "def get_default_device():\n",
    "  \"\"\" Pick GPU if available else CPU. In Google Colab, we should change parameter \"Hardware Accelerator\" in menu item \"Edit > Notebook Settings\"\n",
    "  \"\"\"\n",
    "  if torch.cuda.is_available():  \n",
    "    print(\"Using GPU\")\n",
    "    return torch.device(\"cuda\")  \n",
    "\n",
    "  print(\"Using CPU\")\n",
    "  return torch.device(\"cpu\")\n",
    "# end def\n",
    "\n",
    "use_cuda = True  # Use GPU\n",
    "device = torch.device(\"cpu\")\n",
    "if use_cuda:\n",
    "  device = get_default_device()\n",
    "\n",
    "\n",
    "model = model.to(device)\n",
    "model"
   ]
  },
  {
   "cell_type": "markdown",
   "metadata": {},
   "source": [
    "<b>Step 2</b>: Set the attribute <code>requires_grad</code> to <code>False</code>. As a result, the parameters will not be affected by training.\n"
   ]
  },
  {
   "cell_type": "code",
   "execution_count": 25,
   "metadata": {
    "tags": []
   },
   "outputs": [],
   "source": [
    "# Step 2: Set the parameter cannot be trained for the pre-trained model\n",
    "\n",
    "for param in model.parameters():\n",
    "    param.requires_grad = False"
   ]
  },
  {
   "cell_type": "markdown",
   "metadata": {},
   "source": [
    "<code>resnet18</code> is used to classify 1000 different objects; as a result, the last layer has 1000 outputs.  The 512 inputs come from the fact that the previously hidden layer has 512 outputs. \n"
   ]
  },
  {
   "cell_type": "markdown",
   "metadata": {},
   "source": [
    "<b>Step 3</b>: Replace the output layer <code>model.fc</code> of the neural network with a <code>nn.Linear</code> object, to classify 2 different classes. For the parameters <code>in_features </code> remember the last hidden layer has 512 neurons.\n"
   ]
  },
  {
   "cell_type": "code",
   "execution_count": 26,
   "metadata": {
    "tags": []
   },
   "outputs": [],
   "source": [
    "# Dimension of last layer\n",
    "d_hidden = 512\n",
    "d_out = 2\n",
    "\n",
    "model.fc = nn.Linear(d_hidden, d_out)  # replace the output layer"
   ]
  },
  {
   "cell_type": "markdown",
   "metadata": {},
   "source": [
    "Print out the model in order to show whether you get the correct answer.<br> <b>(Your peer reviewer is going to mark based on what you print here.)</b>\n"
   ]
  },
  {
   "cell_type": "code",
   "execution_count": 27,
   "metadata": {
    "tags": []
   },
   "outputs": [
    {
     "name": "stdout",
     "output_type": "stream",
     "text": [
      "ResNet(\n",
      "  (conv1): Conv2d(3, 64, kernel_size=(7, 7), stride=(2, 2), padding=(3, 3), bias=False)\n",
      "  (bn1): BatchNorm2d(64, eps=1e-05, momentum=0.1, affine=True, track_running_stats=True)\n",
      "  (relu): ReLU(inplace=True)\n",
      "  (maxpool): MaxPool2d(kernel_size=3, stride=2, padding=1, dilation=1, ceil_mode=False)\n",
      "  (layer1): Sequential(\n",
      "    (0): BasicBlock(\n",
      "      (conv1): Conv2d(64, 64, kernel_size=(3, 3), stride=(1, 1), padding=(1, 1), bias=False)\n",
      "      (bn1): BatchNorm2d(64, eps=1e-05, momentum=0.1, affine=True, track_running_stats=True)\n",
      "      (relu): ReLU(inplace=True)\n",
      "      (conv2): Conv2d(64, 64, kernel_size=(3, 3), stride=(1, 1), padding=(1, 1), bias=False)\n",
      "      (bn2): BatchNorm2d(64, eps=1e-05, momentum=0.1, affine=True, track_running_stats=True)\n",
      "    )\n",
      "    (1): BasicBlock(\n",
      "      (conv1): Conv2d(64, 64, kernel_size=(3, 3), stride=(1, 1), padding=(1, 1), bias=False)\n",
      "      (bn1): BatchNorm2d(64, eps=1e-05, momentum=0.1, affine=True, track_running_stats=True)\n",
      "      (relu): ReLU(inplace=True)\n",
      "      (conv2): Conv2d(64, 64, kernel_size=(3, 3), stride=(1, 1), padding=(1, 1), bias=False)\n",
      "      (bn2): BatchNorm2d(64, eps=1e-05, momentum=0.1, affine=True, track_running_stats=True)\n",
      "    )\n",
      "  )\n",
      "  (layer2): Sequential(\n",
      "    (0): BasicBlock(\n",
      "      (conv1): Conv2d(64, 128, kernel_size=(3, 3), stride=(2, 2), padding=(1, 1), bias=False)\n",
      "      (bn1): BatchNorm2d(128, eps=1e-05, momentum=0.1, affine=True, track_running_stats=True)\n",
      "      (relu): ReLU(inplace=True)\n",
      "      (conv2): Conv2d(128, 128, kernel_size=(3, 3), stride=(1, 1), padding=(1, 1), bias=False)\n",
      "      (bn2): BatchNorm2d(128, eps=1e-05, momentum=0.1, affine=True, track_running_stats=True)\n",
      "      (downsample): Sequential(\n",
      "        (0): Conv2d(64, 128, kernel_size=(1, 1), stride=(2, 2), bias=False)\n",
      "        (1): BatchNorm2d(128, eps=1e-05, momentum=0.1, affine=True, track_running_stats=True)\n",
      "      )\n",
      "    )\n",
      "    (1): BasicBlock(\n",
      "      (conv1): Conv2d(128, 128, kernel_size=(3, 3), stride=(1, 1), padding=(1, 1), bias=False)\n",
      "      (bn1): BatchNorm2d(128, eps=1e-05, momentum=0.1, affine=True, track_running_stats=True)\n",
      "      (relu): ReLU(inplace=True)\n",
      "      (conv2): Conv2d(128, 128, kernel_size=(3, 3), stride=(1, 1), padding=(1, 1), bias=False)\n",
      "      (bn2): BatchNorm2d(128, eps=1e-05, momentum=0.1, affine=True, track_running_stats=True)\n",
      "    )\n",
      "  )\n",
      "  (layer3): Sequential(\n",
      "    (0): BasicBlock(\n",
      "      (conv1): Conv2d(128, 256, kernel_size=(3, 3), stride=(2, 2), padding=(1, 1), bias=False)\n",
      "      (bn1): BatchNorm2d(256, eps=1e-05, momentum=0.1, affine=True, track_running_stats=True)\n",
      "      (relu): ReLU(inplace=True)\n",
      "      (conv2): Conv2d(256, 256, kernel_size=(3, 3), stride=(1, 1), padding=(1, 1), bias=False)\n",
      "      (bn2): BatchNorm2d(256, eps=1e-05, momentum=0.1, affine=True, track_running_stats=True)\n",
      "      (downsample): Sequential(\n",
      "        (0): Conv2d(128, 256, kernel_size=(1, 1), stride=(2, 2), bias=False)\n",
      "        (1): BatchNorm2d(256, eps=1e-05, momentum=0.1, affine=True, track_running_stats=True)\n",
      "      )\n",
      "    )\n",
      "    (1): BasicBlock(\n",
      "      (conv1): Conv2d(256, 256, kernel_size=(3, 3), stride=(1, 1), padding=(1, 1), bias=False)\n",
      "      (bn1): BatchNorm2d(256, eps=1e-05, momentum=0.1, affine=True, track_running_stats=True)\n",
      "      (relu): ReLU(inplace=True)\n",
      "      (conv2): Conv2d(256, 256, kernel_size=(3, 3), stride=(1, 1), padding=(1, 1), bias=False)\n",
      "      (bn2): BatchNorm2d(256, eps=1e-05, momentum=0.1, affine=True, track_running_stats=True)\n",
      "    )\n",
      "  )\n",
      "  (layer4): Sequential(\n",
      "    (0): BasicBlock(\n",
      "      (conv1): Conv2d(256, 512, kernel_size=(3, 3), stride=(2, 2), padding=(1, 1), bias=False)\n",
      "      (bn1): BatchNorm2d(512, eps=1e-05, momentum=0.1, affine=True, track_running_stats=True)\n",
      "      (relu): ReLU(inplace=True)\n",
      "      (conv2): Conv2d(512, 512, kernel_size=(3, 3), stride=(1, 1), padding=(1, 1), bias=False)\n",
      "      (bn2): BatchNorm2d(512, eps=1e-05, momentum=0.1, affine=True, track_running_stats=True)\n",
      "      (downsample): Sequential(\n",
      "        (0): Conv2d(256, 512, kernel_size=(1, 1), stride=(2, 2), bias=False)\n",
      "        (1): BatchNorm2d(512, eps=1e-05, momentum=0.1, affine=True, track_running_stats=True)\n",
      "      )\n",
      "    )\n",
      "    (1): BasicBlock(\n",
      "      (conv1): Conv2d(512, 512, kernel_size=(3, 3), stride=(1, 1), padding=(1, 1), bias=False)\n",
      "      (bn1): BatchNorm2d(512, eps=1e-05, momentum=0.1, affine=True, track_running_stats=True)\n",
      "      (relu): ReLU(inplace=True)\n",
      "      (conv2): Conv2d(512, 512, kernel_size=(3, 3), stride=(1, 1), padding=(1, 1), bias=False)\n",
      "      (bn2): BatchNorm2d(512, eps=1e-05, momentum=0.1, affine=True, track_running_stats=True)\n",
      "    )\n",
      "  )\n",
      "  (avgpool): AdaptiveAvgPool2d(output_size=(1, 1))\n",
      "  (fc): Linear(in_features=512, out_features=2, bias=True)\n",
      ")\n"
     ]
    }
   ],
   "source": [
    "print(model)"
   ]
  },
  {
   "cell_type": "markdown",
   "metadata": {},
   "source": [
    "<h2 id=\"Question_2\">Question 2: Train the Model</h2>\n"
   ]
  },
  {
   "cell_type": "markdown",
   "metadata": {},
   "source": [
    "In this question you will train your, model:\n"
   ]
  },
  {
   "cell_type": "markdown",
   "metadata": {},
   "source": [
    "<b>Step 1</b>: Create a cross entropy criterion function \n"
   ]
  },
  {
   "cell_type": "code",
   "execution_count": 28,
   "metadata": {
    "tags": []
   },
   "outputs": [],
   "source": [
    "# Step 1: Create the loss function\n",
    "\n",
    "criterion = nn.CrossEntropyLoss()"
   ]
  },
  {
   "cell_type": "markdown",
   "metadata": {},
   "source": [
    "<b>Step 2</b>: Create a training loader and validation loader object, the batch size should have 100 samples each.\n"
   ]
  },
  {
   "cell_type": "code",
   "execution_count": 29,
   "metadata": {
    "tags": []
   },
   "outputs": [],
   "source": [
    "batch_size = 100\n",
    "\n",
    "train_loader = torch.utils.data.DataLoader(dataset=train_dataset, batch_size=batch_size)\n",
    "validation_loader = torch.utils.data.DataLoader(dataset=validation_dataset, batch_size=batch_size)"
   ]
  },
  {
   "cell_type": "markdown",
   "metadata": {},
   "source": [
    "<b>Step 3</b>: Use the following optimizer to minimize the loss \n"
   ]
  },
  {
   "cell_type": "code",
   "execution_count": 30,
   "metadata": {
    "tags": []
   },
   "outputs": [],
   "source": [
    "optimizer = torch.optim.Adam([parameters  for parameters in model.parameters() if parameters.requires_grad],lr=0.001)"
   ]
  },
  {
   "cell_type": "markdown",
   "metadata": {},
   "source": [
    "<!--Empty Space for separating topics-->\n"
   ]
  },
  {
   "cell_type": "markdown",
   "metadata": {},
   "source": [
    "**Complete the following code to calculate  the accuracy on the validation data for one epoch; this should take about 45 minutes. Make sure you calculate the accuracy on the validation data.**\n"
   ]
  },
  {
   "cell_type": "code",
   "execution_count": 31,
   "metadata": {
    "tags": []
   },
   "outputs": [
    {
     "name": "stdout",
     "output_type": "stream",
     "text": [
      "Number of items in training set :  30000\n",
      "Number of items in testing set :  10000\n",
      "------------------------------\n",
      "Iteration (train phase) 1/300\n",
      "Finished in 10.560689449310303 (s)\n",
      "------------------------------\n",
      "Iteration (train phase) 2/300\n",
      "Finished in 10.080473184585571 (s)\n",
      "------------------------------\n",
      "Iteration (train phase) 3/300\n",
      "Finished in 10.191383600234985 (s)\n",
      "------------------------------\n",
      "Iteration (train phase) 4/300\n",
      "Finished in 10.518796682357788 (s)\n",
      "------------------------------\n",
      "Iteration (train phase) 5/300\n",
      "Finished in 9.49639630317688 (s)\n",
      "------------------------------\n",
      "Iteration (train phase) 6/300\n",
      "Finished in 10.219157695770264 (s)\n",
      "------------------------------\n",
      "Iteration (train phase) 7/300\n",
      "Finished in 11.6995530128479 (s)\n",
      "------------------------------\n",
      "Iteration (train phase) 8/300\n",
      "Finished in 10.027600288391113 (s)\n",
      "------------------------------\n",
      "Iteration (train phase) 9/300\n",
      "Finished in 10.055444955825806 (s)\n",
      "------------------------------\n",
      "Iteration (train phase) 10/300\n",
      "Finished in 9.900188207626343 (s)\n",
      "------------------------------\n",
      "Iteration (train phase) 11/300\n",
      "Finished in 9.89040756225586 (s)\n",
      "------------------------------\n",
      "Iteration (train phase) 12/300\n",
      "Finished in 11.946093082427979 (s)\n",
      "------------------------------\n",
      "Iteration (train phase) 13/300\n",
      "Finished in 10.038999795913696 (s)\n",
      "------------------------------\n",
      "Iteration (train phase) 14/300\n",
      "Finished in 10.277133226394653 (s)\n",
      "------------------------------\n",
      "Iteration (train phase) 15/300\n",
      "Finished in 9.872288465499878 (s)\n",
      "------------------------------\n",
      "Iteration (train phase) 16/300\n",
      "Finished in 12.10595989227295 (s)\n",
      "------------------------------\n",
      "Iteration (train phase) 17/300\n",
      "Finished in 10.270214080810547 (s)\n",
      "------------------------------\n",
      "Iteration (train phase) 18/300\n",
      "Finished in 9.876662731170654 (s)\n",
      "------------------------------\n",
      "Iteration (train phase) 19/300\n",
      "Finished in 9.577323913574219 (s)\n",
      "------------------------------\n",
      "Iteration (train phase) 20/300\n",
      "Finished in 10.073309898376465 (s)\n",
      "------------------------------\n",
      "Iteration (train phase) 21/300\n",
      "Finished in 9.880656957626343 (s)\n",
      "------------------------------\n",
      "Iteration (train phase) 22/300\n",
      "Finished in 10.370375633239746 (s)\n",
      "------------------------------\n",
      "Iteration (train phase) 23/300\n",
      "Finished in 9.97316312789917 (s)\n",
      "------------------------------\n",
      "Iteration (train phase) 24/300\n",
      "Finished in 9.87477970123291 (s)\n",
      "------------------------------\n",
      "Iteration (train phase) 25/300\n",
      "Finished in 9.98429012298584 (s)\n",
      "------------------------------\n",
      "Iteration (train phase) 26/300\n",
      "Finished in 10.421944856643677 (s)\n",
      "------------------------------\n",
      "Iteration (train phase) 27/300\n",
      "Finished in 9.879104375839233 (s)\n",
      "------------------------------\n",
      "Iteration (train phase) 28/300\n",
      "Finished in 9.355663061141968 (s)\n",
      "------------------------------\n",
      "Iteration (train phase) 29/300\n",
      "Finished in 9.48025107383728 (s)\n",
      "------------------------------\n",
      "Iteration (train phase) 30/300\n",
      "Finished in 10.27226185798645 (s)\n",
      "------------------------------\n",
      "Iteration (train phase) 31/300\n",
      "Finished in 10.257123708724976 (s)\n",
      "------------------------------\n",
      "Iteration (train phase) 32/300\n",
      "Finished in 10.113828897476196 (s)\n",
      "------------------------------\n",
      "Iteration (train phase) 33/300\n",
      "Finished in 12.57400393486023 (s)\n",
      "------------------------------\n",
      "Iteration (train phase) 34/300\n",
      "Finished in 10.701208114624023 (s)\n",
      "------------------------------\n",
      "Iteration (train phase) 35/300\n",
      "Finished in 10.858145236968994 (s)\n",
      "------------------------------\n",
      "Iteration (train phase) 36/300\n",
      "Finished in 10.252954721450806 (s)\n",
      "------------------------------\n",
      "Iteration (train phase) 37/300\n",
      "Finished in 10.29529333114624 (s)\n",
      "------------------------------\n",
      "Iteration (train phase) 38/300\n",
      "Finished in 10.100564956665039 (s)\n",
      "------------------------------\n",
      "Iteration (train phase) 39/300\n",
      "Finished in 10.221943855285645 (s)\n",
      "------------------------------\n",
      "Iteration (train phase) 40/300\n",
      "Finished in 9.948293447494507 (s)\n",
      "------------------------------\n",
      "Iteration (train phase) 41/300\n",
      "Finished in 9.756212711334229 (s)\n",
      "------------------------------\n",
      "Iteration (train phase) 42/300\n",
      "Finished in 10.17289686203003 (s)\n",
      "------------------------------\n",
      "Iteration (train phase) 43/300\n",
      "Finished in 10.236776113510132 (s)\n",
      "------------------------------\n",
      "Iteration (train phase) 44/300\n",
      "Finished in 10.1164870262146 (s)\n",
      "------------------------------\n",
      "Iteration (train phase) 45/300\n",
      "Finished in 11.27952527999878 (s)\n",
      "------------------------------\n",
      "Iteration (train phase) 46/300\n",
      "Finished in 9.65297532081604 (s)\n",
      "------------------------------\n",
      "Iteration (train phase) 47/300\n",
      "Finished in 10.158945798873901 (s)\n",
      "------------------------------\n",
      "Iteration (train phase) 48/300\n",
      "Finished in 10.334696054458618 (s)\n",
      "------------------------------\n",
      "Iteration (train phase) 49/300\n",
      "Finished in 9.95670747756958 (s)\n",
      "------------------------------\n",
      "Iteration (train phase) 50/300\n",
      "Finished in 10.742952823638916 (s)\n",
      "------------------------------\n",
      "Iteration (train phase) 51/300\n",
      "Finished in 9.699733018875122 (s)\n",
      "------------------------------\n",
      "Iteration (train phase) 52/300\n",
      "Finished in 10.404572010040283 (s)\n",
      "------------------------------\n",
      "Iteration (train phase) 53/300\n",
      "Finished in 10.286856889724731 (s)\n",
      "------------------------------\n",
      "Iteration (train phase) 54/300\n",
      "Finished in 11.982631921768188 (s)\n",
      "------------------------------\n",
      "Iteration (train phase) 55/300\n",
      "Finished in 9.641453981399536 (s)\n",
      "------------------------------\n",
      "Iteration (train phase) 56/300\n",
      "Finished in 10.040065050125122 (s)\n",
      "------------------------------\n",
      "Iteration (train phase) 57/300\n",
      "Finished in 10.298078775405884 (s)\n",
      "------------------------------\n",
      "Iteration (train phase) 58/300\n",
      "Finished in 10.356665134429932 (s)\n",
      "------------------------------\n",
      "Iteration (train phase) 59/300\n",
      "Finished in 10.19644808769226 (s)\n",
      "------------------------------\n",
      "Iteration (train phase) 60/300\n",
      "Finished in 10.040075302124023 (s)\n",
      "------------------------------\n",
      "Iteration (train phase) 61/300\n",
      "Finished in 9.922532796859741 (s)\n",
      "------------------------------\n",
      "Iteration (train phase) 62/300\n",
      "Finished in 9.933937549591064 (s)\n",
      "------------------------------\n",
      "Iteration (train phase) 63/300\n",
      "Finished in 11.42106294631958 (s)\n",
      "------------------------------\n",
      "Iteration (train phase) 64/300\n",
      "Finished in 10.111105918884277 (s)\n",
      "------------------------------\n",
      "Iteration (train phase) 65/300\n",
      "Finished in 10.433326005935669 (s)\n",
      "------------------------------\n",
      "Iteration (train phase) 66/300\n",
      "Finished in 10.154066801071167 (s)\n",
      "------------------------------\n",
      "Iteration (train phase) 67/300\n",
      "Finished in 12.172493934631348 (s)\n",
      "------------------------------\n",
      "Iteration (train phase) 68/300\n",
      "Finished in 9.93143892288208 (s)\n",
      "------------------------------\n",
      "Iteration (train phase) 69/300\n",
      "Finished in 10.196470022201538 (s)\n",
      "------------------------------\n",
      "Iteration (train phase) 70/300\n",
      "Finished in 10.132618427276611 (s)\n",
      "------------------------------\n",
      "Iteration (train phase) 71/300\n",
      "Finished in 9.688709497451782 (s)\n",
      "------------------------------\n",
      "Iteration (train phase) 72/300\n",
      "Finished in 10.093047618865967 (s)\n",
      "------------------------------\n",
      "Iteration (train phase) 73/300\n",
      "Finished in 10.439173936843872 (s)\n",
      "------------------------------\n",
      "Iteration (train phase) 74/300\n",
      "Finished in 10.417771339416504 (s)\n",
      "------------------------------\n",
      "Iteration (train phase) 75/300\n",
      "Finished in 10.321045160293579 (s)\n",
      "------------------------------\n",
      "Iteration (train phase) 76/300\n",
      "Finished in 10.110748052597046 (s)\n",
      "------------------------------\n",
      "Iteration (train phase) 77/300\n",
      "Finished in 10.513477087020874 (s)\n",
      "------------------------------\n",
      "Iteration (train phase) 78/300\n",
      "Finished in 10.215447902679443 (s)\n",
      "------------------------------\n",
      "Iteration (train phase) 79/300\n",
      "Finished in 10.282699823379517 (s)\n",
      "------------------------------\n",
      "Iteration (train phase) 80/300\n",
      "Finished in 10.156733512878418 (s)\n",
      "------------------------------\n",
      "Iteration (train phase) 81/300\n",
      "Finished in 10.322200298309326 (s)\n",
      "------------------------------\n",
      "Iteration (train phase) 82/300\n",
      "Finished in 10.439941883087158 (s)\n",
      "------------------------------\n",
      "Iteration (train phase) 83/300\n",
      "Finished in 10.614551782608032 (s)\n",
      "------------------------------\n",
      "Iteration (train phase) 84/300\n",
      "Finished in 9.860214710235596 (s)\n",
      "------------------------------\n",
      "Iteration (train phase) 85/300\n",
      "Finished in 10.03324007987976 (s)\n",
      "------------------------------\n",
      "Iteration (train phase) 86/300\n",
      "Finished in 10.040565013885498 (s)\n",
      "------------------------------\n",
      "Iteration (train phase) 87/300\n",
      "Finished in 10.441676378250122 (s)\n",
      "------------------------------\n",
      "Iteration (train phase) 88/300\n",
      "Finished in 10.044180393218994 (s)\n",
      "------------------------------\n",
      "Iteration (train phase) 89/300\n",
      "Finished in 10.132335186004639 (s)\n",
      "------------------------------\n",
      "Iteration (train phase) 90/300\n",
      "Finished in 10.31645154953003 (s)\n",
      "------------------------------\n",
      "Iteration (train phase) 91/300\n",
      "Finished in 10.280755281448364 (s)\n",
      "------------------------------\n",
      "Iteration (train phase) 92/300\n",
      "Finished in 10.577605962753296 (s)\n",
      "------------------------------\n",
      "Iteration (train phase) 93/300\n",
      "Finished in 10.482746362686157 (s)\n",
      "------------------------------\n",
      "Iteration (train phase) 94/300\n",
      "Finished in 10.34915566444397 (s)\n",
      "------------------------------\n",
      "Iteration (train phase) 95/300\n",
      "Finished in 10.69555401802063 (s)\n",
      "------------------------------\n",
      "Iteration (train phase) 96/300\n",
      "Finished in 11.301809787750244 (s)\n",
      "------------------------------\n",
      "Iteration (train phase) 97/300\n",
      "Finished in 9.893390893936157 (s)\n",
      "------------------------------\n",
      "Iteration (train phase) 98/300\n",
      "Finished in 10.361535787582397 (s)\n",
      "------------------------------\n",
      "Iteration (train phase) 99/300\n",
      "Finished in 10.437379598617554 (s)\n",
      "------------------------------\n",
      "Iteration (train phase) 100/300\n",
      "Finished in 11.861431121826172 (s)\n",
      "------------------------------\n",
      "Iteration (train phase) 101/300\n",
      "Finished in 9.95276927947998 (s)\n",
      "------------------------------\n",
      "Iteration (train phase) 102/300\n",
      "Finished in 10.108738660812378 (s)\n",
      "------------------------------\n",
      "Iteration (train phase) 103/300\n",
      "Finished in 10.200393915176392 (s)\n",
      "------------------------------\n",
      "Iteration (train phase) 104/300\n",
      "Finished in 11.65446662902832 (s)\n",
      "------------------------------\n",
      "Iteration (train phase) 105/300\n",
      "Finished in 10.13137149810791 (s)\n",
      "------------------------------\n",
      "Iteration (train phase) 106/300\n",
      "Finished in 10.153397560119629 (s)\n",
      "------------------------------\n",
      "Iteration (train phase) 107/300\n",
      "Finished in 10.617434740066528 (s)\n",
      "------------------------------\n",
      "Iteration (train phase) 108/300\n",
      "Finished in 10.218170166015625 (s)\n",
      "------------------------------\n",
      "Iteration (train phase) 109/300\n",
      "Finished in 9.733579635620117 (s)\n",
      "------------------------------\n",
      "Iteration (train phase) 110/300\n",
      "Finished in 10.220754861831665 (s)\n",
      "------------------------------\n",
      "Iteration (train phase) 111/300\n",
      "Finished in 10.231709957122803 (s)\n",
      "------------------------------\n",
      "Iteration (train phase) 112/300\n",
      "Finished in 10.48127794265747 (s)\n",
      "------------------------------\n",
      "Iteration (train phase) 113/300\n",
      "Finished in 10.442490100860596 (s)\n",
      "------------------------------\n",
      "Iteration (train phase) 114/300\n",
      "Finished in 10.338621616363525 (s)\n",
      "------------------------------\n",
      "Iteration (train phase) 115/300\n",
      "Finished in 10.033895015716553 (s)\n",
      "------------------------------\n",
      "Iteration (train phase) 116/300\n",
      "Finished in 10.272972345352173 (s)\n",
      "------------------------------\n",
      "Iteration (train phase) 117/300\n",
      "Finished in 12.525293827056885 (s)\n",
      "------------------------------\n",
      "Iteration (train phase) 118/300\n",
      "Finished in 10.331814527511597 (s)\n",
      "------------------------------\n",
      "Iteration (train phase) 119/300\n",
      "Finished in 10.318440675735474 (s)\n",
      "------------------------------\n",
      "Iteration (train phase) 120/300\n",
      "Finished in 10.656014680862427 (s)\n",
      "------------------------------\n",
      "Iteration (train phase) 121/300\n",
      "Finished in 12.502328157424927 (s)\n",
      "------------------------------\n",
      "Iteration (train phase) 122/300\n",
      "Finished in 10.27996277809143 (s)\n",
      "------------------------------\n",
      "Iteration (train phase) 123/300\n",
      "Finished in 10.099213123321533 (s)\n",
      "------------------------------\n",
      "Iteration (train phase) 124/300\n",
      "Finished in 9.978967905044556 (s)\n",
      "------------------------------\n",
      "Iteration (train phase) 125/300\n",
      "Finished in 10.656424283981323 (s)\n",
      "------------------------------\n",
      "Iteration (train phase) 126/300\n",
      "Finished in 10.72256064414978 (s)\n",
      "------------------------------\n",
      "Iteration (train phase) 127/300\n",
      "Finished in 10.361820936203003 (s)\n",
      "------------------------------\n",
      "Iteration (train phase) 128/300\n",
      "Finished in 10.453211069107056 (s)\n",
      "------------------------------\n",
      "Iteration (train phase) 129/300\n",
      "Finished in 10.260511636734009 (s)\n",
      "------------------------------\n",
      "Iteration (train phase) 130/300\n",
      "Finished in 10.543057918548584 (s)\n",
      "------------------------------\n",
      "Iteration (train phase) 131/300\n",
      "Finished in 10.222389459609985 (s)\n",
      "------------------------------\n",
      "Iteration (train phase) 132/300\n",
      "Finished in 9.883145332336426 (s)\n",
      "------------------------------\n",
      "Iteration (train phase) 133/300\n",
      "Finished in 9.871426820755005 (s)\n",
      "------------------------------\n",
      "Iteration (train phase) 134/300\n",
      "Finished in 10.240585088729858 (s)\n",
      "------------------------------\n",
      "Iteration (train phase) 135/300\n",
      "Finished in 10.122280597686768 (s)\n",
      "------------------------------\n",
      "Iteration (train phase) 136/300\n",
      "Finished in 10.27566123008728 (s)\n",
      "------------------------------\n",
      "Iteration (train phase) 137/300\n",
      "Finished in 10.214041948318481 (s)\n",
      "------------------------------\n",
      "Iteration (train phase) 138/300\n",
      "Finished in 10.07293438911438 (s)\n",
      "------------------------------\n",
      "Iteration (train phase) 139/300\n",
      "Finished in 10.098957777023315 (s)\n",
      "------------------------------\n",
      "Iteration (train phase) 140/300\n",
      "Finished in 10.113283157348633 (s)\n",
      "------------------------------\n",
      "Iteration (train phase) 141/300\n",
      "Finished in 10.316747426986694 (s)\n",
      "------------------------------\n",
      "Iteration (train phase) 142/300\n",
      "Finished in 10.252225160598755 (s)\n",
      "------------------------------\n",
      "Iteration (train phase) 143/300\n",
      "Finished in 10.575448989868164 (s)\n",
      "------------------------------\n",
      "Iteration (train phase) 144/300\n",
      "Finished in 9.993654012680054 (s)\n",
      "------------------------------\n",
      "Iteration (train phase) 145/300\n",
      "Finished in 10.069958686828613 (s)\n",
      "------------------------------\n",
      "Iteration (train phase) 146/300\n",
      "Finished in 10.17248797416687 (s)\n",
      "------------------------------\n",
      "Iteration (train phase) 147/300\n",
      "Finished in 10.17767882347107 (s)\n",
      "------------------------------\n",
      "Iteration (train phase) 148/300\n",
      "Finished in 10.48120379447937 (s)\n",
      "------------------------------\n",
      "Iteration (train phase) 149/300\n",
      "Finished in 10.061692953109741 (s)\n",
      "------------------------------\n",
      "Iteration (train phase) 150/300\n",
      "Finished in 10.315489053726196 (s)\n",
      "------------------------------\n",
      "Iteration (train phase) 151/300\n",
      "Finished in 10.098809480667114 (s)\n",
      "------------------------------\n",
      "Iteration (train phase) 152/300\n",
      "Finished in 9.956467390060425 (s)\n",
      "------------------------------\n",
      "Iteration (train phase) 153/300\n",
      "Finished in 9.838937759399414 (s)\n",
      "------------------------------\n",
      "Iteration (train phase) 154/300\n",
      "Finished in 9.973710060119629 (s)\n",
      "------------------------------\n",
      "Iteration (train phase) 155/300\n",
      "Finished in 10.032624244689941 (s)\n",
      "------------------------------\n",
      "Iteration (train phase) 156/300\n",
      "Finished in 10.31175446510315 (s)\n",
      "------------------------------\n",
      "Iteration (train phase) 157/300\n",
      "Finished in 10.162023305892944 (s)\n",
      "------------------------------\n",
      "Iteration (train phase) 158/300\n",
      "Finished in 10.454216718673706 (s)\n",
      "------------------------------\n",
      "Iteration (train phase) 159/300\n",
      "Finished in 9.877926111221313 (s)\n",
      "------------------------------\n",
      "Iteration (train phase) 160/300\n",
      "Finished in 10.320486068725586 (s)\n",
      "------------------------------\n",
      "Iteration (train phase) 161/300\n",
      "Finished in 10.292951345443726 (s)\n",
      "------------------------------\n",
      "Iteration (train phase) 162/300\n",
      "Finished in 9.961031436920166 (s)\n",
      "------------------------------\n",
      "Iteration (train phase) 163/300\n",
      "Finished in 10.014456748962402 (s)\n",
      "------------------------------\n",
      "Iteration (train phase) 164/300\n",
      "Finished in 10.363390922546387 (s)\n",
      "------------------------------\n",
      "Iteration (train phase) 165/300\n",
      "Finished in 10.1958646774292 (s)\n",
      "------------------------------\n",
      "Iteration (train phase) 166/300\n",
      "Finished in 9.879592895507812 (s)\n",
      "------------------------------\n",
      "Iteration (train phase) 167/300\n",
      "Finished in 10.578702449798584 (s)\n",
      "------------------------------\n",
      "Iteration (train phase) 168/300\n",
      "Finished in 10.05580735206604 (s)\n",
      "------------------------------\n",
      "Iteration (train phase) 169/300\n",
      "Finished in 10.021156311035156 (s)\n",
      "------------------------------\n",
      "Iteration (train phase) 170/300\n",
      "Finished in 10.251009225845337 (s)\n",
      "------------------------------\n",
      "Iteration (train phase) 171/300\n",
      "Finished in 10.299227714538574 (s)\n",
      "------------------------------\n",
      "Iteration (train phase) 172/300\n",
      "Finished in 10.333245754241943 (s)\n",
      "------------------------------\n",
      "Iteration (train phase) 173/300\n",
      "Finished in 9.620336055755615 (s)\n",
      "------------------------------\n",
      "Iteration (train phase) 174/300\n",
      "Finished in 9.535096645355225 (s)\n",
      "------------------------------\n",
      "Iteration (train phase) 175/300\n",
      "Finished in 10.123886108398438 (s)\n",
      "------------------------------\n",
      "Iteration (train phase) 176/300\n",
      "Finished in 10.034974098205566 (s)\n",
      "------------------------------\n",
      "Iteration (train phase) 177/300\n",
      "Finished in 10.081443071365356 (s)\n",
      "------------------------------\n",
      "Iteration (train phase) 178/300\n",
      "Finished in 9.79397964477539 (s)\n",
      "------------------------------\n",
      "Iteration (train phase) 179/300\n",
      "Finished in 9.78002381324768 (s)\n",
      "------------------------------\n",
      "Iteration (train phase) 180/300\n",
      "Finished in 10.141710042953491 (s)\n",
      "------------------------------\n",
      "Iteration (train phase) 181/300\n",
      "Finished in 10.111287355422974 (s)\n",
      "------------------------------\n",
      "Iteration (train phase) 182/300\n",
      "Finished in 10.23628830909729 (s)\n",
      "------------------------------\n",
      "Iteration (train phase) 183/300\n",
      "Finished in 9.875771045684814 (s)\n",
      "------------------------------\n",
      "Iteration (train phase) 184/300\n",
      "Finished in 10.251474618911743 (s)\n",
      "------------------------------\n",
      "Iteration (train phase) 185/300\n",
      "Finished in 9.994096755981445 (s)\n",
      "------------------------------\n",
      "Iteration (train phase) 186/300\n",
      "Finished in 9.949881792068481 (s)\n",
      "------------------------------\n",
      "Iteration (train phase) 187/300\n",
      "Finished in 9.74013066291809 (s)\n",
      "------------------------------\n",
      "Iteration (train phase) 188/300\n",
      "Finished in 10.074494361877441 (s)\n",
      "------------------------------\n",
      "Iteration (train phase) 189/300\n",
      "Finished in 10.312631607055664 (s)\n",
      "------------------------------\n",
      "Iteration (train phase) 190/300\n",
      "Finished in 10.452313423156738 (s)\n",
      "------------------------------\n",
      "Iteration (train phase) 191/300\n",
      "Finished in 10.21230673789978 (s)\n",
      "------------------------------\n",
      "Iteration (train phase) 192/300\n",
      "Finished in 9.794748783111572 (s)\n",
      "------------------------------\n",
      "Iteration (train phase) 193/300\n",
      "Finished in 9.82970666885376 (s)\n",
      "------------------------------\n",
      "Iteration (train phase) 194/300\n",
      "Finished in 10.24086856842041 (s)\n",
      "------------------------------\n",
      "Iteration (train phase) 195/300\n",
      "Finished in 10.577616691589355 (s)\n",
      "------------------------------\n",
      "Iteration (train phase) 196/300\n",
      "Finished in 9.835083484649658 (s)\n",
      "------------------------------\n",
      "Iteration (train phase) 197/300\n",
      "Finished in 10.715827226638794 (s)\n",
      "------------------------------\n",
      "Iteration (train phase) 198/300\n",
      "Finished in 10.168197631835938 (s)\n",
      "------------------------------\n",
      "Iteration (train phase) 199/300\n",
      "Finished in 10.615736722946167 (s)\n",
      "------------------------------\n",
      "Iteration (train phase) 200/300\n",
      "Finished in 10.580870866775513 (s)\n",
      "------------------------------\n",
      "Iteration (train phase) 201/300\n",
      "Finished in 11.982142210006714 (s)\n",
      "------------------------------\n",
      "Iteration (train phase) 202/300\n",
      "Finished in 10.89703369140625 (s)\n",
      "------------------------------\n",
      "Iteration (train phase) 203/300\n",
      "Finished in 10.081021547317505 (s)\n",
      "------------------------------\n",
      "Iteration (train phase) 204/300\n",
      "Finished in 10.303430080413818 (s)\n",
      "------------------------------\n",
      "Iteration (train phase) 205/300\n",
      "Finished in 10.574095249176025 (s)\n",
      "------------------------------\n",
      "Iteration (train phase) 206/300\n",
      "Finished in 9.693448781967163 (s)\n",
      "------------------------------\n",
      "Iteration (train phase) 207/300\n",
      "Finished in 9.90059208869934 (s)\n",
      "------------------------------\n",
      "Iteration (train phase) 208/300\n",
      "Finished in 10.398676872253418 (s)\n",
      "------------------------------\n",
      "Iteration (train phase) 209/300\n",
      "Finished in 10.351425409317017 (s)\n",
      "------------------------------\n",
      "Iteration (train phase) 210/300\n",
      "Finished in 10.159538745880127 (s)\n",
      "------------------------------\n",
      "Iteration (train phase) 211/300\n",
      "Finished in 9.79530954360962 (s)\n",
      "------------------------------\n",
      "Iteration (train phase) 212/300\n",
      "Finished in 10.296486854553223 (s)\n",
      "------------------------------\n",
      "Iteration (train phase) 213/300\n",
      "Finished in 10.275606155395508 (s)\n",
      "------------------------------\n",
      "Iteration (train phase) 214/300\n",
      "Finished in 11.458691358566284 (s)\n",
      "------------------------------\n",
      "Iteration (train phase) 215/300\n",
      "Finished in 10.119076490402222 (s)\n",
      "------------------------------\n",
      "Iteration (train phase) 216/300\n",
      "Finished in 10.281836986541748 (s)\n",
      "------------------------------\n",
      "Iteration (train phase) 217/300\n",
      "Finished in 10.37784481048584 (s)\n",
      "------------------------------\n",
      "Iteration (train phase) 218/300\n",
      "Finished in 11.855530977249146 (s)\n",
      "------------------------------\n",
      "Iteration (train phase) 219/300\n",
      "Finished in 10.151269674301147 (s)\n",
      "------------------------------\n",
      "Iteration (train phase) 220/300\n",
      "Finished in 9.819148778915405 (s)\n",
      "------------------------------\n",
      "Iteration (train phase) 221/300\n",
      "Finished in 9.935678005218506 (s)\n",
      "------------------------------\n",
      "Iteration (train phase) 222/300\n",
      "Finished in 10.23537802696228 (s)\n",
      "------------------------------\n",
      "Iteration (train phase) 223/300\n",
      "Finished in 10.320358037948608 (s)\n",
      "------------------------------\n",
      "Iteration (train phase) 224/300\n",
      "Finished in 10.473859071731567 (s)\n",
      "------------------------------\n",
      "Iteration (train phase) 225/300\n",
      "Finished in 9.97453498840332 (s)\n",
      "------------------------------\n",
      "Iteration (train phase) 226/300\n",
      "Finished in 10.278931856155396 (s)\n",
      "------------------------------\n",
      "Iteration (train phase) 227/300\n",
      "Finished in 10.395713090896606 (s)\n",
      "------------------------------\n",
      "Iteration (train phase) 228/300\n",
      "Finished in 10.393166065216064 (s)\n",
      "------------------------------\n",
      "Iteration (train phase) 229/300\n",
      "Finished in 10.52808141708374 (s)\n",
      "------------------------------\n",
      "Iteration (train phase) 230/300\n",
      "Finished in 10.509414434432983 (s)\n",
      "------------------------------\n",
      "Iteration (train phase) 231/300\n",
      "Finished in 12.319034814834595 (s)\n",
      "------------------------------\n",
      "Iteration (train phase) 232/300\n",
      "Finished in 10.462525606155396 (s)\n",
      "------------------------------\n",
      "Iteration (train phase) 233/300\n",
      "Finished in 10.058301448822021 (s)\n",
      "------------------------------\n",
      "Iteration (train phase) 234/300\n",
      "Finished in 10.830176591873169 (s)\n",
      "------------------------------\n",
      "Iteration (train phase) 235/300\n",
      "Finished in 12.335671186447144 (s)\n",
      "------------------------------\n",
      "Iteration (train phase) 236/300\n",
      "Finished in 9.982091188430786 (s)\n",
      "------------------------------\n",
      "Iteration (train phase) 237/300\n",
      "Finished in 10.45452094078064 (s)\n",
      "------------------------------\n",
      "Iteration (train phase) 238/300\n",
      "Finished in 10.403136491775513 (s)\n",
      "------------------------------\n",
      "Iteration (train phase) 239/300\n",
      "Finished in 11.095181941986084 (s)\n",
      "------------------------------\n",
      "Iteration (train phase) 240/300\n",
      "Finished in 9.996993780136108 (s)\n",
      "------------------------------\n",
      "Iteration (train phase) 241/300\n",
      "Finished in 10.69912838935852 (s)\n",
      "------------------------------\n",
      "Iteration (train phase) 242/300\n",
      "Finished in 10.731188535690308 (s)\n",
      "------------------------------\n",
      "Iteration (train phase) 243/300\n",
      "Finished in 10.04114031791687 (s)\n",
      "------------------------------\n",
      "Iteration (train phase) 244/300\n",
      "Finished in 10.091538667678833 (s)\n",
      "------------------------------\n",
      "Iteration (train phase) 245/300\n",
      "Finished in 10.100292921066284 (s)\n",
      "------------------------------\n",
      "Iteration (train phase) 246/300\n",
      "Finished in 10.192214965820312 (s)\n",
      "------------------------------\n",
      "Iteration (train phase) 247/300\n",
      "Finished in 10.749056816101074 (s)\n",
      "------------------------------\n",
      "Iteration (train phase) 248/300\n",
      "Finished in 10.699087142944336 (s)\n",
      "------------------------------\n",
      "Iteration (train phase) 249/300\n",
      "Finished in 10.276956558227539 (s)\n",
      "------------------------------\n",
      "Iteration (train phase) 250/300\n",
      "Finished in 10.339138507843018 (s)\n",
      "------------------------------\n",
      "Iteration (train phase) 251/300\n",
      "Finished in 10.53629446029663 (s)\n",
      "------------------------------\n",
      "Iteration (train phase) 252/300\n",
      "Finished in 10.536900281906128 (s)\n",
      "------------------------------\n",
      "Iteration (train phase) 253/300\n",
      "Finished in 10.233289003372192 (s)\n",
      "------------------------------\n",
      "Iteration (train phase) 254/300\n",
      "Finished in 10.672858238220215 (s)\n",
      "------------------------------\n",
      "Iteration (train phase) 255/300\n",
      "Finished in 10.690803289413452 (s)\n",
      "------------------------------\n",
      "Iteration (train phase) 256/300\n",
      "Finished in 10.39537525177002 (s)\n",
      "------------------------------\n",
      "Iteration (train phase) 257/300\n",
      "Finished in 10.4150710105896 (s)\n",
      "------------------------------\n",
      "Iteration (train phase) 258/300\n",
      "Finished in 10.362789630889893 (s)\n",
      "------------------------------\n",
      "Iteration (train phase) 259/300\n",
      "Finished in 10.516394138336182 (s)\n",
      "------------------------------\n",
      "Iteration (train phase) 260/300\n",
      "Finished in 12.761199474334717 (s)\n",
      "------------------------------\n",
      "Iteration (train phase) 261/300\n",
      "Finished in 10.233905553817749 (s)\n",
      "------------------------------\n",
      "Iteration (train phase) 262/300\n",
      "Finished in 10.482540607452393 (s)\n",
      "------------------------------\n",
      "Iteration (train phase) 263/300\n",
      "Finished in 10.74651575088501 (s)\n",
      "------------------------------\n",
      "Iteration (train phase) 264/300\n",
      "Finished in 13.320292234420776 (s)\n",
      "------------------------------\n",
      "Iteration (train phase) 265/300\n",
      "Finished in 11.063137769699097 (s)\n",
      "------------------------------\n",
      "Iteration (train phase) 266/300\n",
      "Finished in 10.632441997528076 (s)\n",
      "------------------------------\n",
      "Iteration (train phase) 267/300\n",
      "Finished in 10.84419322013855 (s)\n",
      "------------------------------\n",
      "Iteration (train phase) 268/300\n",
      "Finished in 10.614753246307373 (s)\n",
      "------------------------------\n",
      "Iteration (train phase) 269/300\n",
      "Finished in 11.24706506729126 (s)\n",
      "------------------------------\n",
      "Iteration (train phase) 270/300\n",
      "Finished in 10.88075065612793 (s)\n",
      "------------------------------\n",
      "Iteration (train phase) 271/300\n",
      "Finished in 10.478890419006348 (s)\n",
      "------------------------------\n",
      "Iteration (train phase) 272/300\n",
      "Finished in 12.136341571807861 (s)\n",
      "------------------------------\n",
      "Iteration (train phase) 273/300\n",
      "Finished in 11.180790901184082 (s)\n",
      "------------------------------\n",
      "Iteration (train phase) 274/300\n",
      "Finished in 10.73255205154419 (s)\n",
      "------------------------------\n",
      "Iteration (train phase) 275/300\n",
      "Finished in 10.203531742095947 (s)\n",
      "------------------------------\n",
      "Iteration (train phase) 276/300\n",
      "Finished in 12.218640804290771 (s)\n",
      "------------------------------\n",
      "Iteration (train phase) 277/300\n",
      "Finished in 10.361367464065552 (s)\n",
      "------------------------------\n",
      "Iteration (train phase) 278/300\n",
      "Finished in 10.322692394256592 (s)\n",
      "------------------------------\n",
      "Iteration (train phase) 279/300\n",
      "Finished in 10.654568433761597 (s)\n",
      "------------------------------\n",
      "Iteration (train phase) 280/300\n",
      "Finished in 12.233553171157837 (s)\n",
      "------------------------------\n",
      "Iteration (train phase) 281/300\n",
      "Finished in 10.478008031845093 (s)\n",
      "------------------------------\n",
      "Iteration (train phase) 282/300\n",
      "Finished in 10.411503553390503 (s)\n",
      "------------------------------\n",
      "Iteration (train phase) 283/300\n",
      "Finished in 10.919660091400146 (s)\n",
      "------------------------------\n",
      "Iteration (train phase) 284/300\n",
      "Finished in 12.82100248336792 (s)\n",
      "------------------------------\n",
      "Iteration (train phase) 285/300\n",
      "Finished in 10.763237476348877 (s)\n",
      "------------------------------\n",
      "Iteration (train phase) 286/300\n",
      "Finished in 10.490822076797485 (s)\n",
      "------------------------------\n",
      "Iteration (train phase) 287/300\n",
      "Finished in 10.37749195098877 (s)\n",
      "------------------------------\n",
      "Iteration (train phase) 288/300\n",
      "Finished in 11.321353435516357 (s)\n",
      "------------------------------\n",
      "Iteration (train phase) 289/300\n",
      "Finished in 10.380410194396973 (s)\n",
      "------------------------------\n",
      "Iteration (train phase) 290/300\n",
      "Finished in 10.752039432525635 (s)\n",
      "------------------------------\n",
      "Iteration (train phase) 291/300\n",
      "Finished in 10.507690906524658 (s)\n",
      "------------------------------\n",
      "Iteration (train phase) 292/300\n",
      "Finished in 11.661479473114014 (s)\n",
      "------------------------------\n",
      "Iteration (train phase) 293/300\n",
      "Finished in 10.248985528945923 (s)\n",
      "------------------------------\n",
      "Iteration (train phase) 294/300\n",
      "Finished in 10.540701866149902 (s)\n",
      "------------------------------\n",
      "Iteration (train phase) 295/300\n",
      "Finished in 9.636355638504028 (s)\n",
      "------------------------------\n",
      "Iteration (train phase) 296/300\n",
      "Finished in 10.65055799484253 (s)\n",
      "------------------------------\n",
      "Iteration (train phase) 297/300\n",
      "Finished in 10.678305864334106 (s)\n",
      "------------------------------\n",
      "Iteration (train phase) 298/300\n",
      "Finished in 9.910569429397583 (s)\n",
      "------------------------------\n",
      "Iteration (train phase) 299/300\n",
      "Finished in 9.736809253692627 (s)\n",
      "------------------------------\n",
      "Iteration (train phase) 300/300\n",
      "Finished in 10.075308322906494 (s)\n",
      "------------------------------\n",
      "Iteration (validation phase) 1/100\n",
      "Finished in 9.163055419921875 (s)\n",
      "------------------------------\n",
      "Iteration (validation phase) 2/100\n",
      "Finished in 9.412455320358276 (s)\n",
      "------------------------------\n",
      "Iteration (validation phase) 3/100\n",
      "Finished in 9.05772614479065 (s)\n",
      "------------------------------\n",
      "Iteration (validation phase) 4/100\n",
      "Finished in 8.940823316574097 (s)\n",
      "------------------------------\n",
      "Iteration (validation phase) 5/100\n",
      "Finished in 9.49378752708435 (s)\n",
      "------------------------------\n",
      "Iteration (validation phase) 6/100\n",
      "Finished in 9.218756914138794 (s)\n",
      "------------------------------\n",
      "Iteration (validation phase) 7/100\n",
      "Finished in 9.853801727294922 (s)\n",
      "------------------------------\n",
      "Iteration (validation phase) 8/100\n",
      "Finished in 9.034671545028687 (s)\n",
      "------------------------------\n",
      "Iteration (validation phase) 9/100\n",
      "Finished in 10.985183000564575 (s)\n",
      "------------------------------\n",
      "Iteration (validation phase) 10/100\n",
      "Finished in 9.531476736068726 (s)\n",
      "------------------------------\n",
      "Iteration (validation phase) 11/100\n",
      "Finished in 9.359301328659058 (s)\n",
      "------------------------------\n",
      "Iteration (validation phase) 12/100\n",
      "Finished in 9.714965581893921 (s)\n",
      "------------------------------\n",
      "Iteration (validation phase) 13/100\n",
      "Finished in 9.037497997283936 (s)\n",
      "------------------------------\n",
      "Iteration (validation phase) 14/100\n",
      "Finished in 9.181477069854736 (s)\n",
      "------------------------------\n",
      "Iteration (validation phase) 15/100\n",
      "Finished in 9.608381748199463 (s)\n",
      "------------------------------\n",
      "Iteration (validation phase) 16/100\n",
      "Finished in 8.790289402008057 (s)\n",
      "------------------------------\n",
      "Iteration (validation phase) 17/100\n",
      "Finished in 9.010256290435791 (s)\n",
      "------------------------------\n",
      "Iteration (validation phase) 18/100\n",
      "Finished in 11.01797890663147 (s)\n",
      "------------------------------\n",
      "Iteration (validation phase) 19/100\n",
      "Finished in 9.318188905715942 (s)\n",
      "------------------------------\n",
      "Iteration (validation phase) 20/100\n",
      "Finished in 9.712228536605835 (s)\n",
      "------------------------------\n",
      "Iteration (validation phase) 21/100\n",
      "Finished in 9.256927013397217 (s)\n",
      "------------------------------\n",
      "Iteration (validation phase) 22/100\n",
      "Finished in 9.973140001296997 (s)\n",
      "------------------------------\n",
      "Iteration (validation phase) 23/100\n",
      "Finished in 9.773914337158203 (s)\n",
      "------------------------------\n",
      "Iteration (validation phase) 24/100\n",
      "Finished in 9.954890727996826 (s)\n",
      "------------------------------\n",
      "Iteration (validation phase) 25/100\n",
      "Finished in 9.410145998001099 (s)\n",
      "------------------------------\n",
      "Iteration (validation phase) 26/100\n",
      "Finished in 9.26159143447876 (s)\n",
      "------------------------------\n",
      "Iteration (validation phase) 27/100\n",
      "Finished in 9.934085369110107 (s)\n",
      "------------------------------\n",
      "Iteration (validation phase) 28/100\n",
      "Finished in 9.312222242355347 (s)\n",
      "------------------------------\n",
      "Iteration (validation phase) 29/100\n",
      "Finished in 9.852340459823608 (s)\n",
      "------------------------------\n",
      "Iteration (validation phase) 30/100\n",
      "Finished in 9.378893852233887 (s)\n",
      "------------------------------\n",
      "Iteration (validation phase) 31/100\n",
      "Finished in 10.578829288482666 (s)\n",
      "------------------------------\n",
      "Iteration (validation phase) 32/100\n",
      "Finished in 8.76017451286316 (s)\n",
      "------------------------------\n",
      "Iteration (validation phase) 33/100\n",
      "Finished in 9.43567156791687 (s)\n",
      "------------------------------\n",
      "Iteration (validation phase) 34/100\n",
      "Finished in 9.253145456314087 (s)\n",
      "------------------------------\n",
      "Iteration (validation phase) 35/100\n",
      "Finished in 9.021153926849365 (s)\n",
      "------------------------------\n",
      "Iteration (validation phase) 36/100\n",
      "Finished in 9.434725999832153 (s)\n",
      "------------------------------\n",
      "Iteration (validation phase) 37/100\n",
      "Finished in 9.641548871994019 (s)\n",
      "------------------------------\n",
      "Iteration (validation phase) 38/100\n",
      "Finished in 9.537558317184448 (s)\n",
      "------------------------------\n",
      "Iteration (validation phase) 39/100\n",
      "Finished in 9.48004674911499 (s)\n",
      "------------------------------\n",
      "Iteration (validation phase) 40/100\n",
      "Finished in 10.403875589370728 (s)\n",
      "------------------------------\n",
      "Iteration (validation phase) 41/100\n",
      "Finished in 8.991958141326904 (s)\n",
      "------------------------------\n",
      "Iteration (validation phase) 42/100\n",
      "Finished in 9.21544599533081 (s)\n",
      "------------------------------\n",
      "Iteration (validation phase) 43/100\n",
      "Finished in 9.138725519180298 (s)\n",
      "------------------------------\n",
      "Iteration (validation phase) 44/100\n",
      "Finished in 10.497317790985107 (s)\n",
      "------------------------------\n",
      "Iteration (validation phase) 45/100\n",
      "Finished in 9.336977243423462 (s)\n",
      "------------------------------\n",
      "Iteration (validation phase) 46/100\n",
      "Finished in 9.36081576347351 (s)\n",
      "------------------------------\n",
      "Iteration (validation phase) 47/100\n",
      "Finished in 9.122404098510742 (s)\n",
      "------------------------------\n",
      "Iteration (validation phase) 48/100\n",
      "Finished in 9.533706665039062 (s)\n",
      "------------------------------\n",
      "Iteration (validation phase) 49/100\n",
      "Finished in 10.595674753189087 (s)\n",
      "------------------------------\n",
      "Iteration (validation phase) 50/100\n",
      "Finished in 9.3381826877594 (s)\n",
      "------------------------------\n",
      "Iteration (validation phase) 51/100\n",
      "Finished in 9.356156587600708 (s)\n",
      "------------------------------\n",
      "Iteration (validation phase) 52/100\n",
      "Finished in 9.851620197296143 (s)\n",
      "------------------------------\n",
      "Iteration (validation phase) 53/100\n",
      "Finished in 9.591387033462524 (s)\n",
      "------------------------------\n",
      "Iteration (validation phase) 54/100\n",
      "Finished in 9.664032936096191 (s)\n",
      "------------------------------\n",
      "Iteration (validation phase) 55/100\n",
      "Finished in 9.791540384292603 (s)\n",
      "------------------------------\n",
      "Iteration (validation phase) 56/100\n",
      "Finished in 9.469671726226807 (s)\n",
      "------------------------------\n",
      "Iteration (validation phase) 57/100\n",
      "Finished in 9.641412258148193 (s)\n",
      "------------------------------\n",
      "Iteration (validation phase) 58/100\n",
      "Finished in 9.628766059875488 (s)\n",
      "------------------------------\n",
      "Iteration (validation phase) 59/100\n",
      "Finished in 10.132447719573975 (s)\n",
      "------------------------------\n",
      "Iteration (validation phase) 60/100\n",
      "Finished in 9.539828777313232 (s)\n",
      "------------------------------\n",
      "Iteration (validation phase) 61/100\n",
      "Finished in 10.513061046600342 (s)\n",
      "------------------------------\n",
      "Iteration (validation phase) 62/100\n",
      "Finished in 9.671480417251587 (s)\n",
      "------------------------------\n",
      "Iteration (validation phase) 63/100\n",
      "Finished in 9.478177547454834 (s)\n",
      "------------------------------\n",
      "Iteration (validation phase) 64/100\n",
      "Finished in 9.852895975112915 (s)\n",
      "------------------------------\n",
      "Iteration (validation phase) 65/100\n",
      "Finished in 9.806876182556152 (s)\n",
      "------------------------------\n",
      "Iteration (validation phase) 66/100\n",
      "Finished in 9.601699352264404 (s)\n",
      "------------------------------\n",
      "Iteration (validation phase) 67/100\n",
      "Finished in 9.737441301345825 (s)\n",
      "------------------------------\n",
      "Iteration (validation phase) 68/100\n",
      "Finished in 9.414732456207275 (s)\n",
      "------------------------------\n",
      "Iteration (validation phase) 69/100\n",
      "Finished in 9.314958572387695 (s)\n",
      "------------------------------\n",
      "Iteration (validation phase) 70/100\n",
      "Finished in 9.51215124130249 (s)\n",
      "------------------------------\n",
      "Iteration (validation phase) 71/100\n",
      "Finished in 9.642316818237305 (s)\n",
      "------------------------------\n",
      "Iteration (validation phase) 72/100\n",
      "Finished in 9.58669900894165 (s)\n",
      "------------------------------\n",
      "Iteration (validation phase) 73/100\n",
      "Finished in 8.895087242126465 (s)\n",
      "------------------------------\n",
      "Iteration (validation phase) 74/100\n",
      "Finished in 9.393615245819092 (s)\n",
      "------------------------------\n",
      "Iteration (validation phase) 75/100\n",
      "Finished in 9.698705673217773 (s)\n",
      "------------------------------\n",
      "Iteration (validation phase) 76/100\n",
      "Finished in 9.451659917831421 (s)\n",
      "------------------------------\n",
      "Iteration (validation phase) 77/100\n",
      "Finished in 9.336625337600708 (s)\n",
      "------------------------------\n",
      "Iteration (validation phase) 78/100\n",
      "Finished in 9.35584545135498 (s)\n",
      "------------------------------\n",
      "Iteration (validation phase) 79/100\n",
      "Finished in 9.496334552764893 (s)\n",
      "------------------------------\n",
      "Iteration (validation phase) 80/100\n",
      "Finished in 9.764177322387695 (s)\n",
      "------------------------------\n",
      "Iteration (validation phase) 81/100\n",
      "Finished in 9.130851030349731 (s)\n",
      "------------------------------\n",
      "Iteration (validation phase) 82/100\n",
      "Finished in 10.515700578689575 (s)\n",
      "------------------------------\n",
      "Iteration (validation phase) 83/100\n",
      "Finished in 9.299071311950684 (s)\n",
      "------------------------------\n",
      "Iteration (validation phase) 84/100\n",
      "Finished in 9.775248527526855 (s)\n",
      "------------------------------\n",
      "Iteration (validation phase) 85/100\n",
      "Finished in 9.150416135787964 (s)\n",
      "------------------------------\n",
      "Iteration (validation phase) 86/100\n",
      "Finished in 9.72285532951355 (s)\n",
      "------------------------------\n",
      "Iteration (validation phase) 87/100\n",
      "Finished in 9.571722984313965 (s)\n",
      "------------------------------\n",
      "Iteration (validation phase) 88/100\n",
      "Finished in 9.278056383132935 (s)\n",
      "------------------------------\n",
      "Iteration (validation phase) 89/100\n",
      "Finished in 9.539329528808594 (s)\n",
      "------------------------------\n",
      "Iteration (validation phase) 90/100\n",
      "Finished in 9.215707063674927 (s)\n",
      "------------------------------\n",
      "Iteration (validation phase) 91/100\n",
      "Finished in 10.7875816822052 (s)\n",
      "------------------------------\n",
      "Iteration (validation phase) 92/100\n",
      "Finished in 9.578979015350342 (s)\n",
      "------------------------------\n",
      "Iteration (validation phase) 93/100\n",
      "Finished in 9.296268463134766 (s)\n",
      "------------------------------\n",
      "Iteration (validation phase) 94/100\n",
      "Finished in 9.10866928100586 (s)\n",
      "------------------------------\n",
      "Iteration (validation phase) 95/100\n",
      "Finished in 11.073351860046387 (s)\n",
      "------------------------------\n",
      "Iteration (validation phase) 96/100\n",
      "Finished in 9.572527170181274 (s)\n",
      "------------------------------\n",
      "Iteration (validation phase) 97/100\n",
      "Finished in 8.803170204162598 (s)\n",
      "------------------------------\n",
      "Iteration (validation phase) 98/100\n",
      "Finished in 8.576321601867676 (s)\n",
      "------------------------------\n",
      "Iteration (validation phase) 99/100\n",
      "Finished in 8.560774087905884 (s)\n",
      "------------------------------\n",
      "Iteration (validation phase) 100/100\n",
      "Finished in 8.652076005935669 (s)\n",
      "Epoch 1 - accuracy: 0.994\n",
      "------------------------------------------------------------------------\n"
     ]
    },
    {
     "ename": "NameError",
     "evalue": "name 'model_path' is not defined",
     "output_type": "error",
     "traceback": [
      "\u001b[0;31m---------------------------------------------------------------------------\u001b[0m",
      "\u001b[0;31mNameError\u001b[0m                                 Traceback (most recent call last)",
      "\u001b[0;32m/tmp/ipykernel_1025/847045297.py\u001b[0m in \u001b[0;36m<module>\u001b[0;34m\u001b[0m\n\u001b[1;32m     79\u001b[0m \u001b[0;34m\u001b[0m\u001b[0m\n\u001b[1;32m     80\u001b[0m     \u001b[0;31m# Save model\u001b[0m\u001b[0;34m\u001b[0m\u001b[0;34m\u001b[0m\u001b[0;34m\u001b[0m\u001b[0m\n\u001b[0;32m---> 81\u001b[0;31m     \u001b[0mmodel_file_path\u001b[0m \u001b[0;34m=\u001b[0m \u001b[0mmodel_path\u001b[0m \u001b[0;34m+\u001b[0m \u001b[0;34m\"resnet18_trained_model_epoch_{}.pth\"\u001b[0m\u001b[0;34m.\u001b[0m\u001b[0mformat\u001b[0m\u001b[0;34m(\u001b[0m\u001b[0mepoch\u001b[0m\u001b[0;34m+\u001b[0m\u001b[0;36m1\u001b[0m\u001b[0;34m)\u001b[0m\u001b[0;34m\u001b[0m\u001b[0;34m\u001b[0m\u001b[0m\n\u001b[0m\u001b[1;32m     82\u001b[0m     \u001b[0mtorch\u001b[0m\u001b[0;34m.\u001b[0m\u001b[0msave\u001b[0m\u001b[0;34m(\u001b[0m\u001b[0mmodel\u001b[0m\u001b[0;34m.\u001b[0m\u001b[0mstate_dict\u001b[0m\u001b[0;34m(\u001b[0m\u001b[0;34m)\u001b[0m\u001b[0;34m,\u001b[0m \u001b[0mmodel_file_path\u001b[0m\u001b[0;34m)\u001b[0m\u001b[0;34m\u001b[0m\u001b[0;34m\u001b[0m\u001b[0m\n\u001b[1;32m     83\u001b[0m \u001b[0;34m\u001b[0m\u001b[0m\n",
      "\u001b[0;31mNameError\u001b[0m: name 'model_path' is not defined"
     ]
    }
   ],
   "source": [
    "n_epochs = 1\n",
    "loss_list = []\n",
    "accuracy_list = []\n",
    "accuracy = 0\n",
    "correct = 0\n",
    "N_test = len(validation_dataset)\n",
    "N_train = len(train_dataset)\n",
    "start_time = time.time()\n",
    "#n_epochs\n",
    "\n",
    "print(\"Number of items in training set : \", N_train)\n",
    "print(\"Number of items in testing set : \", N_test)\n",
    "\n",
    "running_loss = 0\n",
    "start_time = time.time()\n",
    "for epoch in range(n_epochs):\n",
    "    for i, (x, y) in enumerate(train_loader):        \n",
    "        print('-' * 30)\n",
    "        print('Iteration (train phase) {}/{}'.format(i+1, int(N_train/batch_size)))\n",
    "        i_start_time = time.time()\n",
    "        \n",
    "        x = x.to(device)\n",
    "        y = y.to(device)\n",
    "            \n",
    "        # set model to train \n",
    "        model.train() \n",
    "        \n",
    "        # clear gradient \n",
    "        optimizer.zero_grad()\n",
    "     \n",
    "        # make a prediction \n",
    "        z = model(x)\n",
    "   \n",
    "        # calculate loss \n",
    "        loss = criterion(z, y) \n",
    "        # loss.requires_grad = True\n",
    "    \n",
    "        # calculate gradients of parameters \n",
    "        loss.backward()\n",
    "        \n",
    "        # update parameters \n",
    "        optimizer.step()\n",
    "        \n",
    "        loss_list.append(loss.data)\n",
    "        print(\"Finished in {} (s)\".format(time.time()-i_start_time))\n",
    "    # end for\n",
    "        \n",
    "    correct=0\n",
    "    for i, (x_test, y_test) in enumerate(validation_loader):\n",
    "        print('-' * 30)\n",
    "        print('Iteration (validation phase) {}/{}'.format(i+1, int(N_test/batch_size)))\n",
    "        i_start_time = time.time()\n",
    "        \n",
    "        x_test = x_test.to(device)\n",
    "        y_test = y_test.to(device)\n",
    "        \n",
    "        # set model to eval \n",
    "        model.eval()\n",
    "       \n",
    "        # make a prediction \n",
    "        z = model(x_test)\n",
    "        \n",
    "        # find max \n",
    "        _, yhat = torch.max(z.data, 1)\n",
    "       \n",
    "       \n",
    "        #Calculate misclassified  samples in mini-batch \n",
    "        #hint +=(yhat==y_test).sum().item()\n",
    "        correct += (yhat==y_test).sum().item()  \n",
    "        \n",
    "        print(\"Finished in {} (s)\".format(time.time()-i_start_time))\n",
    "    # end for\n",
    "    \n",
    "    accuracy=correct/N_test\n",
    "    print(\"Epoch %d - accuracy: %.3f\" % (epoch+1, accuracy))\n",
    "    \n",
    "    accuracy_list.append(accuracy)\n",
    "    print(\"-\" * 72)\n",
    "    \n",
    "    # Save model\n",
    "    model_file_path = model_path + \"resnet18_trained_model_epoch_{}.pth\".format(epoch+1)\n",
    "    torch.save(model.state_dict(), model_file_path)\n",
    "    \n",
    "    # Duration for epoch\n",
    "    print(\"Finished epoch {} in {} (s).\".format(epoch+1, time.time()-start_time))\n",
    "# end for\n",
    "\n"
   ]
  },
  {
   "cell_type": "markdown",
   "metadata": {},
   "source": [
    "<b>Print out the Accuracy and plot the loss stored in the list <code>loss_list</code> for every iteration and take a screen shot.</b>\n"
   ]
  },
  {
   "cell_type": "code",
   "execution_count": 32,
   "metadata": {
    "tags": []
   },
   "outputs": [
    {
     "data": {
      "text/plain": [
       "0.9944"
      ]
     },
     "execution_count": 32,
     "metadata": {},
     "output_type": "execute_result"
    }
   ],
   "source": [
    "accuracy"
   ]
  },
  {
   "cell_type": "code",
   "execution_count": 33,
   "metadata": {
    "tags": []
   },
   "outputs": [
    {
     "data": {
      "image/png": "[encoded data removed]",
      "text/plain": [
       "<Figure size 640x480 with 1 Axes>"
      ]
     },
     "metadata": {},
     "output_type": "display_data"
    }
   ],
   "source": [
    "plt.plot(loss_list)\n",
    "plt.xlabel(\"iteration\")\n",
    "plt.ylabel(\"loss\")\n",
    "plt.show()\n"
   ]
  },
  {
   "cell_type": "markdown",
   "metadata": {},
   "source": [
    "<h2 id=\"Question_3\">Question 3:Find the misclassified samples</h2> \n"
   ]
  },
  {
   "cell_type": "markdown",
   "metadata": {},
   "source": [
    "<b>Identify the first four misclassified samples using the validation data:</b>\n"
   ]
  },
  {
   "cell_type": "code",
   "execution_count": 34,
   "metadata": {
    "tags": []
   },
   "outputs": [
    {
     "name": "stdout",
     "output_type": "stream",
     "text": [
      "Sample : 101; Expected Label: tensor([0]); Obtained Label: tensor([1])\n",
      "Sample : 131; Expected Label: tensor([0]); Obtained Label: tensor([1])\n",
      "Sample : 213; Expected Label: tensor([0]); Obtained Label: tensor([1])\n",
      "Sample : 242; Expected Label: tensor([1]); Obtained Label: tensor([0])\n"
     ]
    }
   ],
   "source": [
    "count = 0\n",
    "max_num_of_items = 4  # first four mis-classified samples\n",
    "validation_loader_batch_one = torch.utils.data.DataLoader(dataset=validation_dataset, batch_size=1)\n",
    "\n",
    "for i, (x_test, y_test) in enumerate(validation_loader_batch_one):\n",
    "    # set model to eval\n",
    "    model.eval()\n",
    "    \n",
    "    # make a prediction\n",
    "    z = model(x_test)\n",
    "    \n",
    "    # find max\n",
    "    _, yhat = torch.max(z.data, 1)\n",
    "    \n",
    "    # print mis-classified samples\n",
    "    if yhat != y_test:\n",
    "        print(\"Sample : {}; Expected Label: {}; Obtained Label: {}\".format(str(i), str(y_test), str(yhat)))\n",
    "        count += 1\n",
    "        if count >= max_num_of_items:\n",
    "            break\n",
    "    # end if\n",
    "# end for   "
   ]
  },
  {
   "cell_type": "code",
   "execution_count": null,
   "metadata": {},
   "outputs": [],
   "source": []
  },
  {
   "cell_type": "code",
   "execution_count": 35,
   "metadata": {
    "tags": []
   },
   "outputs": [
    {
     "name": "stderr",
     "output_type": "stream",
     "text": [
      "Using TensorFlow backend.\n",
      "/home/jupyterlab/conda/envs/python/lib/python3.7/site-packages/tensorflow/python/framework/dtypes.py:516: FutureWarning: Passing (type, 1) or '1type' as a synonym of type is deprecated; in a future version of numpy, it will be understood as (type, (1,)) / '(1,)type'.\n",
      "  _np_qint8 = np.dtype([(\"qint8\", np.int8, 1)])\n",
      "/home/jupyterlab/conda/envs/python/lib/python3.7/site-packages/tensorflow/python/framework/dtypes.py:517: FutureWarning: Passing (type, 1) or '1type' as a synonym of type is deprecated; in a future version of numpy, it will be understood as (type, (1,)) / '(1,)type'.\n",
      "  _np_quint8 = np.dtype([(\"quint8\", np.uint8, 1)])\n",
      "/home/jupyterlab/conda/envs/python/lib/python3.7/site-packages/tensorflow/python/framework/dtypes.py:518: FutureWarning: Passing (type, 1) or '1type' as a synonym of type is deprecated; in a future version of numpy, it will be understood as (type, (1,)) / '(1,)type'.\n",
      "  _np_qint16 = np.dtype([(\"qint16\", np.int16, 1)])\n",
      "/home/jupyterlab/conda/envs/python/lib/python3.7/site-packages/tensorflow/python/framework/dtypes.py:519: FutureWarning: Passing (type, 1) or '1type' as a synonym of type is deprecated; in a future version of numpy, it will be understood as (type, (1,)) / '(1,)type'.\n",
      "  _np_quint16 = np.dtype([(\"quint16\", np.uint16, 1)])\n",
      "/home/jupyterlab/conda/envs/python/lib/python3.7/site-packages/tensorflow/python/framework/dtypes.py:520: FutureWarning: Passing (type, 1) or '1type' as a synonym of type is deprecated; in a future version of numpy, it will be understood as (type, (1,)) / '(1,)type'.\n",
      "  _np_qint32 = np.dtype([(\"qint32\", np.int32, 1)])\n",
      "/home/jupyterlab/conda/envs/python/lib/python3.7/site-packages/tensorflow/python/framework/dtypes.py:525: FutureWarning: Passing (type, 1) or '1type' as a synonym of type is deprecated; in a future version of numpy, it will be understood as (type, (1,)) / '(1,)type'.\n",
      "  np_resource = np.dtype([(\"resource\", np.ubyte, 1)])\n",
      "/home/jupyterlab/conda/envs/python/lib/python3.7/site-packages/tensorboard/compat/tensorflow_stub/dtypes.py:541: FutureWarning: Passing (type, 1) or '1type' as a synonym of type is deprecated; in a future version of numpy, it will be understood as (type, (1,)) / '(1,)type'.\n",
      "  _np_qint8 = np.dtype([(\"qint8\", np.int8, 1)])\n",
      "/home/jupyterlab/conda/envs/python/lib/python3.7/site-packages/tensorboard/compat/tensorflow_stub/dtypes.py:542: FutureWarning: Passing (type, 1) or '1type' as a synonym of type is deprecated; in a future version of numpy, it will be understood as (type, (1,)) / '(1,)type'.\n",
      "  _np_quint8 = np.dtype([(\"quint8\", np.uint8, 1)])\n",
      "/home/jupyterlab/conda/envs/python/lib/python3.7/site-packages/tensorboard/compat/tensorflow_stub/dtypes.py:543: FutureWarning: Passing (type, 1) or '1type' as a synonym of type is deprecated; in a future version of numpy, it will be understood as (type, (1,)) / '(1,)type'.\n",
      "  _np_qint16 = np.dtype([(\"qint16\", np.int16, 1)])\n",
      "/home/jupyterlab/conda/envs/python/lib/python3.7/site-packages/tensorboard/compat/tensorflow_stub/dtypes.py:544: FutureWarning: Passing (type, 1) or '1type' as a synonym of type is deprecated; in a future version of numpy, it will be understood as (type, (1,)) / '(1,)type'.\n",
      "  _np_quint16 = np.dtype([(\"quint16\", np.uint16, 1)])\n",
      "/home/jupyterlab/conda/envs/python/lib/python3.7/site-packages/tensorboard/compat/tensorflow_stub/dtypes.py:545: FutureWarning: Passing (type, 1) or '1type' as a synonym of type is deprecated; in a future version of numpy, it will be understood as (type, (1,)) / '(1,)type'.\n",
      "  _np_qint32 = np.dtype([(\"qint32\", np.int32, 1)])\n",
      "/home/jupyterlab/conda/envs/python/lib/python3.7/site-packages/tensorboard/compat/tensorflow_stub/dtypes.py:550: FutureWarning: Passing (type, 1) or '1type' as a synonym of type is deprecated; in a future version of numpy, it will be understood as (type, (1,)) / '(1,)type'.\n",
      "  np_resource = np.dtype([(\"resource\", np.ubyte, 1)])\n"
     ]
    }
   ],
   "source": [
    "from keras.preprocessing.image import ImageDataGenerator\n",
    "import keras\n",
    "from keras.models import Sequential\n",
    "from keras.layers import Dense"
   ]
  },
  {
   "cell_type": "code",
   "execution_count": 36,
   "metadata": {
    "tags": []
   },
   "outputs": [],
   "source": [
    "from keras.applications import ResNet50\n",
    "from keras.applications.resnet50 import preprocess_input"
   ]
  },
  {
   "cell_type": "code",
   "execution_count": 37,
   "metadata": {
    "tags": []
   },
   "outputs": [
    {
     "name": "stdout",
     "output_type": "stream",
     "text": [
      "--2025-06-21 17:46:55--  https://s3-api.us-geo.objectstorage.softlayer.net/cf-courses-data/CognitiveClass/DL0321EN/data/concrete_data_week3.zip\n",
      "Resolving s3-api.us-geo.objectstorage.softlayer.net (s3-api.us-geo.objectstorage.softlayer.net)... 67.228.254.196, 67.228.254.196\n",
      "Connecting to s3-api.us-geo.objectstorage.softlayer.net (s3-api.us-geo.objectstorage.softlayer.net)|67.228.254.196|:443... connected.\n",
      "HTTP request sent, awaiting response... 200 OK\n",
      "Length: 261482368 (249M) [application/zip]\n",
      "Saving to: ‘concrete_data_week3.zip’\n",
      "\n",
      "concrete_data_week3 100%[===================>] 249.37M  57.0MB/s    in 4.5s    \n",
      "\n",
      "2025-06-21 17:47:02 (55.2 MB/s) - ‘concrete_data_week3.zip’ saved [261482368/261482368]\n",
      "\n"
     ]
    }
   ],
   "source": [
    "!wget https://s3-api.us-geo.objectstorage.softlayer.net/cf-courses-data/CognitiveClass/DL0321EN/data/concrete_data_week3.zip"
   ]
  },
  {
   "cell_type": "code",
   "execution_count": null,
   "metadata": {
    "tags": []
   },
   "outputs": [],
   "source": [
    "!unzip -qq concrete_data_week3.zip"
   ]
  },
  {
   "cell_type": "code",
   "execution_count": null,
   "metadata": {},
   "outputs": [],
   "source": [
    "num_classes = 2\n",
    "\n",
    "image_resize = 224\n",
    "\n",
    "batch_size_training = 100\n",
    "batch_size_validation = 100"
   ]
  },
  {
   "cell_type": "code",
   "execution_count": null,
   "metadata": {},
   "outputs": [],
   "source": [
    "data_generator = ImageDataGenerator(\n",
    "    preprocessing_function=preprocess_input,\n",
    ")"
   ]
  },
  {
   "cell_type": "code",
   "execution_count": null,
   "metadata": {},
   "outputs": [],
   "source": [
    "train_generator = data_generator.flow_from_directory(\n",
    "    'concrete_data_week3/train',\n",
    "    target_size=(image_resize, image_resize),\n",
    "    batch_size=batch_size_training,\n",
    "    class_mode='categorical')"
   ]
  },
  {
   "cell_type": "code",
   "execution_count": null,
   "metadata": {},
   "outputs": [],
   "source": [
    "validation_generator = data_generator.flow_from_directory(\n",
    "    'concrete_data_week3/valid',\n",
    "    target_size=(image_resize, image_resize),\n",
    "    batch_size=batch_size_validation,\n",
    "    class_mode='categorical')"
   ]
  },
  {
   "cell_type": "code",
   "execution_count": null,
   "metadata": {},
   "outputs": [],
   "source": [
    "\n",
    "model = Sequential()"
   ]
  },
  {
   "cell_type": "code",
   "execution_count": null,
   "metadata": {},
   "outputs": [],
   "source": [
    "model.add(ResNet50(\n",
    "    include_top=False,\n",
    "    pooling='avg',\n",
    "    weights='imagenet',\n",
    "    ))"
   ]
  },
  {
   "cell_type": "code",
   "execution_count": null,
   "metadata": {},
   "outputs": [],
   "source": [
    "model.add(Dense(num_classes, activation='softmax'))"
   ]
  },
  {
   "cell_type": "code",
   "execution_count": null,
   "metadata": {},
   "outputs": [],
   "source": [
    "model.layers"
   ]
  },
  {
   "cell_type": "code",
   "execution_count": null,
   "metadata": {},
   "outputs": [],
   "source": [
    "model.layers[0].layers"
   ]
  },
  {
   "cell_type": "code",
   "execution_count": null,
   "metadata": {},
   "outputs": [],
   "source": [
    "model.layers[0].trainable = False"
   ]
  },
  {
   "cell_type": "code",
   "execution_count": null,
   "metadata": {},
   "outputs": [],
   "source": [
    "model.summary()"
   ]
  },
  {
   "cell_type": "code",
   "execution_count": null,
   "metadata": {},
   "outputs": [],
   "source": [
    "model.compile(optimizer='adam', loss='categorical_crossentropy', metrics=['accuracy'])"
   ]
  },
  {
   "cell_type": "code",
   "execution_count": null,
   "metadata": {},
   "outputs": [],
   "source": [
    "steps_per_epoch_training = len(train_generator)\n",
    "steps_per_epoch_validation = len(validation_generator)\n",
    "num_epochs = 2"
   ]
  },
  {
   "cell_type": "code",
   "execution_count": null,
   "metadata": {},
   "outputs": [],
   "source": [
    "fit_history = model.fit_generator(\n",
    "    train_generator,\n",
    "    steps_per_epoch=steps_per_epoch_training,\n",
    "    epochs=num_epochs,\n",
    "    validation_data=validation_generator,\n",
    "    validation_steps=steps_per_epoch_validation,\n",
    "    verbose=1,\n",
    ")"
   ]
  },
  {
   "cell_type": "code",
   "execution_count": null,
   "metadata": {},
   "outputs": [],
   "source": [
    "model.save('classifier_resnet_model.h5')"
   ]
  },
  {
   "cell_type": "code",
   "execution_count": null,
   "metadata": {},
   "outputs": [],
   "source": [
    "!wget https://s3-api.us-geo.objectstorage.softlayer.net/cf-courses-data/CognitiveClass/DL0321EN/data/concrete_data_week4.zip"
   ]
  },
  {
   "cell_type": "code",
   "execution_count": null,
   "metadata": {},
   "outputs": [],
   "source": [
    "!unzip -qq concrete_data_week4.zip"
   ]
  },
  {
   "cell_type": "code",
   "execution_count": null,
   "metadata": {},
   "outputs": [],
   "source": [
    "from keras.preprocessing.image import ImageDataGenerator\n",
    "import keras\n",
    "from keras.models import Sequential\n",
    "from keras.layers import Dense"
   ]
  },
  {
   "cell_type": "code",
   "execution_count": null,
   "metadata": {},
   "outputs": [],
   "source": [
    "from keras.applications.vgg16 import VGG16\n",
    "from keras.preprocessing import image\n",
    "from keras.applications.vgg16 import preprocess_input"
   ]
  },
  {
   "cell_type": "code",
   "execution_count": null,
   "metadata": {},
   "outputs": [],
   "source": [
    "model_1 = Sequential()"
   ]
  },
  {
   "cell_type": "code",
   "execution_count": null,
   "metadata": {},
   "outputs": [],
   "source": [
    "model_1.add(VGG16(\n",
    "    include_top=False,\n",
    "    pooling='avg',\n",
    "    weights='imagenet',\n",
    "    ))"
   ]
  },
  {
   "cell_type": "code",
   "execution_count": null,
   "metadata": {},
   "outputs": [],
   "source": [
    "num_classes = 2\n",
    "\n",
    "image_resize = 224\n",
    "\n",
    "batch_size_training = 100\n",
    "batch_size_validation = 100"
   ]
  },
  {
   "cell_type": "code",
   "execution_count": null,
   "metadata": {},
   "outputs": [],
   "source": [
    "data_generator = ImageDataGenerator(\n",
    "    preprocessing_function=preprocess_input,\n",
    ")"
   ]
  },
  {
   "cell_type": "code",
   "execution_count": null,
   "metadata": {},
   "outputs": [],
   "source": [
    "data_generator = ImageDataGenerator(\n",
    "    preprocessing_function=preprocess_input,\n",
    ")\n",
    "train_generator = data_generator.flow_from_directory(\n",
    "    'concrete_data_week4/train',\n",
    "    target_size=(image_resize, image_resize),\n",
    "    batch_size=batch_size_training,\n",
    "    class_mode='categorical')"
   ]
  },
  {
   "cell_type": "code",
   "execution_count": null,
   "metadata": {},
   "outputs": [],
   "source": [
    "validation_generator = data_generator.flow_from_directory(\n",
    "    'concrete_data_week4/valid',\n",
    "    target_size=(image_resize, image_resize),\n",
    "    batch_size=batch_size_validation,\n",
    "    class_mode='categorical')"
   ]
  },
  {
   "cell_type": "code",
   "execution_count": null,
   "metadata": {},
   "outputs": [],
   "source": [
    "model_1.add(Dense(num_classes, activation='softmax'))"
   ]
  },
  {
   "cell_type": "code",
   "execution_count": null,
   "metadata": {},
   "outputs": [],
   "source": [
    "model_1.layers"
   ]
  },
  {
   "cell_type": "code",
   "execution_count": null,
   "metadata": {},
   "outputs": [],
   "source": [
    "\n",
    "model_1.layers[0].layers"
   ]
  },
  {
   "cell_type": "code",
   "execution_count": null,
   "metadata": {},
   "outputs": [],
   "source": [
    "model_1.summary()"
   ]
  },
  {
   "cell_type": "code",
   "execution_count": null,
   "metadata": {},
   "outputs": [],
   "source": [
    "model_1.compile(optimizer='adam', loss='categorical_crossentropy', metrics=['accuracy'])"
   ]
  },
  {
   "cell_type": "code",
   "execution_count": null,
   "metadata": {},
   "outputs": [],
   "source": [
    "steps_per_epoch_training = len(train_generator)\n",
    "steps_per_epoch_validation = len(validation_generator)\n",
    "num_epochs = 2"
   ]
  },
  {
   "cell_type": "code",
   "execution_count": null,
   "metadata": {},
   "outputs": [],
   "source": [
    "fit_history = model_1.fit_generator(\n",
    "    train_generator,\n",
    "    steps_per_epoch=steps_per_epoch_training,\n",
    "    epochs=num_epochs,\n",
    "    validation_data=validation_generator,\n",
    "    validation_steps=steps_per_epoch_validation,\n",
    "    verbose=1,\n",
    ")"
   ]
  },
  {
   "cell_type": "code",
   "execution_count": null,
   "metadata": {},
   "outputs": [],
   "source": [
    "model_1.save('classifier_vgg16_model.h5')"
   ]
  },
  {
   "cell_type": "code",
   "execution_count": null,
   "metadata": {},
   "outputs": [],
   "source": []
  },
  {
   "cell_type": "code",
   "execution_count": null,
   "metadata": {},
   "outputs": [],
   "source": [
    "from keras.models import load_model"
   ]
  },
  {
   "cell_type": "code",
   "execution_count": null,
   "metadata": {},
   "outputs": [],
   "source": [
    "model_ResNet50 = load_model('classifier_resnet_model.h5')"
   ]
  },
  {
   "cell_type": "code",
   "execution_count": null,
   "metadata": {},
   "outputs": [],
   "source": [
    "model.summary()"
   ]
  },
  {
   "cell_type": "code",
   "execution_count": null,
   "metadata": {},
   "outputs": [],
   "source": [
    "batch_size_test=5"
   ]
  },
  {
   "cell_type": "code",
   "execution_count": null,
   "metadata": {},
   "outputs": [],
   "source": [
    "\n",
    "data_generator_test = ImageDataGenerator(\n",
    "    preprocessing_function=preprocess_input,\n",
    ")"
   ]
  },
  {
   "cell_type": "code",
   "execution_count": null,
   "metadata": {},
   "outputs": [],
   "source": [
    "test_set = data_generator_test.flow_from_directory(\n",
    "    'concrete_data_week4/test',\n",
    "    target_size=(image_resize, image_resize),\n",
    "    batch_size=batch_size_test, shuffle=False,\n",
    "    class_mode='categorical')"
   ]
  },
  {
   "cell_type": "code",
   "execution_count": null,
   "metadata": {},
   "outputs": [],
   "source": [
    "\n",
    "score_ResNet50 = model.evaluate_generator(test_set,steps=len(test_set),use_multiprocessing=False)\n",
    "print(\"Accuracy with ResNet50 = \",score_ResNet50[1])"
   ]
  },
  {
   "cell_type": "code",
   "execution_count": null,
   "metadata": {},
   "outputs": [],
   "source": [
    "score_Vgg16 = model_1.evaluate_generator(test_set,steps=len(test_set),use_multiprocessing=False)\n",
    "print(\"Accuracy with vgg16 = \",score_Vgg16[1])"
   ]
  },
  {
   "cell_type": "code",
   "execution_count": null,
   "metadata": {},
   "outputs": [],
   "source": []
  },
  {
   "cell_type": "code",
   "execution_count": null,
   "metadata": {},
   "outputs": [],
   "source": [
    "predict_VGG16 = model_1.predict_generator(test_set,steps=len(test_set), verbose=0).round(2)"
   ]
  },
  {
   "cell_type": "code",
   "execution_count": null,
   "metadata": {},
   "outputs": [],
   "source": [
    "import numpy as np\n",
    "import matplotlib.pyplot as plt\n",
    "\n",
    "for i in range(0,3):\n",
    "    first_batch_images = test_set.next()[0]\n",
    "    \n",
    "    \n",
    "fig, axs = plt.subplots(nrows=2, ncols=2, figsize=(20, 10)) # define your figure and axes\n",
    "\n",
    "ind = 0\n",
    "for ax1 in axs:\n",
    "    for ax2 in ax1: \n",
    "        #image_data = first_batch_images[ind]\n",
    "        image_data = first_batch_images[ind].astype(np.uint8)\n",
    "        ax2.imshow(image_data)\n",
    "        ind += 1\n",
    "\n",
    "fig.suptitle('images') \n",
    "plt.show()"
   ]
  },
  {
   "cell_type": "code",
   "execution_count": null,
   "metadata": {},
   "outputs": [],
   "source": [
    "classes = model_1.predict_classes(first_batch_images)\n",
    "classes"
   ]
  },
  {
   "cell_type": "code",
   "execution_count": null,
   "metadata": {},
   "outputs": [],
   "source": [
    "#predictions= model_1.predict_generator(test_set).round(2)"
   ]
  },
  {
   "cell_type": "code",
   "execution_count": null,
   "metadata": {},
   "outputs": [],
   "source": [
    "predicted_class_indices_vgg16=np.argmax(predict_VGG16,axis=1)\n",
    "labels = (test_set.class_indices)\n",
    "labels2 = dict((v,k) for k,v in labels.items())"
   ]
  },
  {
   "cell_type": "code",
   "execution_count": null,
   "metadata": {},
   "outputs": [],
   "source": [
    " predict_VGG16 = [labels2[k] for k in predicted_class_indices_vgg16]"
   ]
  },
  {
   "cell_type": "code",
   "execution_count": null,
   "metadata": {},
   "outputs": [],
   "source": [
    "print (predict_VGG16[0])\n",
    "print(predict_VGG16[1])\n",
    "print(predict_VGG16[2])\n",
    "print(predict_VGG16[3])\n",
    "print(predict_VGG16[4])"
   ]
  },
  {
   "cell_type": "code",
   "execution_count": null,
   "metadata": {},
   "outputs": [],
   "source": []
  },
  {
   "cell_type": "code",
   "execution_count": null,
   "metadata": {},
   "outputs": [],
   "source": [
    "predict_ResNet = model.predict_generator(test_set,steps=len(test_set), verbose=0)"
   ]
  },
  {
   "cell_type": "code",
   "execution_count": null,
   "metadata": {},
   "outputs": [],
   "source": [
    "for i in range(0,3):\n",
    "    first_batch_images = test_set.next()[0]\n",
    "    \n",
    "    \n",
    "fig, axs = plt.subplots(nrows=2, ncols=2, figsize=(20, 10)) # define your figure and axes\n",
    "\n",
    "ind = 0\n",
    "for ax1 in axs:\n",
    "    for ax2 in ax1: \n",
    "        #image_data = first_batch_images[ind]\n",
    "        image_data = first_batch_images[ind].astype(np.uint8)\n",
    "        ax2.imshow(image_data)\n",
    "        ind += 1\n",
    "\n",
    "fig.suptitle('images') \n",
    "plt.show()"
   ]
  },
  {
   "cell_type": "code",
   "execution_count": null,
   "metadata": {},
   "outputs": [],
   "source": [
    "classes = model.predict_classes(first_batch_images)\n",
    "classes"
   ]
  },
  {
   "cell_type": "code",
   "execution_count": null,
   "metadata": {},
   "outputs": [],
   "source": [
    "predicted_class_indices_ResNet50=np.argmax(predict_ResNet,axis=1)\n",
    "labels = (test_set.class_indices)\n",
    "labels2 = dict((v,k) for k,v in labels.items())"
   ]
  },
  {
   "cell_type": "code",
   "execution_count": null,
   "metadata": {},
   "outputs": [],
   "source": [
    "predict_ResNet50 = [labels2[k] for k in predicted_class_indices_ResNet50]"
   ]
  },
  {
   "cell_type": "code",
   "execution_count": null,
   "metadata": {},
   "outputs": [],
   "source": [
    "\n",
    "print (predict_ResNet50[0])\n",
    "print(predict_ResNet50[1])\n",
    "print(predict_ResNet50[2])\n",
    "print(predict_ResNet50[3])\n",
    "print(predict_ResNet50[4])"
   ]
  },
  {
   "cell_type": "code",
   "execution_count": null,
   "metadata": {},
   "outputs": [],
   "source": []
  },
  {
   "cell_type": "code",
   "execution_count": null,
   "metadata": {},
   "outputs": [],
   "source": []
  },
  {
   "cell_type": "code",
   "execution_count": null,
   "metadata": {},
   "outputs": [],
   "source": []
  },
  {
   "cell_type": "markdown",
   "metadata": {},
   "source": [
    "<a href=\"https://dataplatform.cloud.ibm.com/docs/content/wsj/analyze-data/share-notebooks.html?utm_source=skills_network&utm_content=in_lab_content_link&utm_id=Lab-IBMDeveloperSkillsNetwork-DL0321EN-SkillsNetwork\"> CLICK HERE </a> Click here to see how to share your notebook.\n"
   ]
  },
  {
   "cell_type": "markdown",
   "metadata": {},
   "source": [
    "<h2>About the Authors:</h2> \n",
    "\n",
    "<a href=\"https://www.linkedin.com/in/joseph-s-50398b136/\">Joseph Santarcangelo</a> has a PhD in Electrical Engineering, his research focused on using machine learning, signal processing, and computer vision to determine how videos impact human cognition. Joseph has been working for IBM since he completed his PhD.\n"
   ]
  },
  {
   "cell_type": "markdown",
   "metadata": {},
   "source": [
    "\n",
    "## Change Log\n",
    "\n",
    "|  Date (YYYY-MM-DD) |  Version | Changed By  |  Change Description |\n",
    "|---|---|---|---|\n",
    "| 2020-09-21  | 2.0  | Shubham  |  Migrated Lab to Markdown and added to course repo in GitLab |\n",
    "\n",
    "\n",
    "\n",
    "<hr>\n",
    "\n",
    "## <h3 align=\"center\"> © IBM Corporation 2020. All rights reserved. <h3/>\n"
   ]
  },
  {
   "cell_type": "markdown",
   "metadata": {},
   "source": [
    "Copyright &copy; 2018 <a href=\"cognitiveclass.ai?utm_source=bducopyrightlink&utm_medium=dswb&utm_campaign=bdu\">cognitiveclass.ai</a>. This notebook and its source code are released under the terms of the <a href=\"https://bigdatauniversity.com/mit-license/\">MIT License</a>.\n"
   ]
  }
 ],
 "metadata": {
  "kernelspec": {
   "display_name": "Python",
   "language": "python",
   "name": "conda-env-python-py"
  },
  "language_info": {
   "codemirror_mode": {
    "name": "ipython",
    "version": 3
   },
   "file_extension": ".py",
   "mimetype": "text/x-python",
   "name": "python",
   "nbconvert_exporter": "python",
   "pygments_lexer": "ipython3",
   "version": "3.7.12"
  },
  "prev_pub_hash": "411ae2aef8ceb1100f8902a4d5f03fa3959d6f13ed71b4e07911db0399a6abc3"
 },
 "nbformat": 4,
 "nbformat_minor": 4
}
